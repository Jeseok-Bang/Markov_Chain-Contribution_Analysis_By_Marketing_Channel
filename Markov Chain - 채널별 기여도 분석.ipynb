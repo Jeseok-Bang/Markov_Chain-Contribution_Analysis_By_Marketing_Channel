{
 "cells": [
  {
   "cell_type": "code",
   "execution_count": 1,
   "id": "6166da93",
   "metadata": {},
   "outputs": [],
   "source": [
    "import pandas as pd\n",
    "from collections import defaultdict\n",
    "import seaborn as sns\n",
    "import matplotlib.pyplot as plt\n",
    "import numpy as np"
   ]
  },
  {
   "cell_type": "code",
   "execution_count": 2,
   "id": "d96bd6a9",
   "metadata": {},
   "outputs": [],
   "source": [
    "df = pd.read_csv(\"attribution_data.csv\")"
   ]
  },
  {
   "cell_type": "markdown",
   "id": "c60db4dc",
   "metadata": {},
   "source": [
    "## 데이터"
   ]
  },
  {
   "cell_type": "markdown",
   "id": "9f6965c2",
   "metadata": {},
   "source": [
    "* Cookie: Randomly generated customer id enabling us to tie subsequent visits back to the same customer\n",
    "* Timestamp: Date and time when the visit took place\n",
    "* Interaction: Categorical variable indicating the type of interaction that took place\n",
    "* Conversion: Boolean variable indicating whether a conversion took place\n",
    "* Conversion Value: Value of the potential conversion event\n",
    "* Channel: The marketing channel that brought the customer to our site"
   ]
  },
  {
   "cell_type": "code",
   "execution_count": 4,
   "id": "865abb50",
   "metadata": {},
   "outputs": [
    {
     "data": {
      "text/html": [
       "<div>\n",
       "<style scoped>\n",
       "    .dataframe tbody tr th:only-of-type {\n",
       "        vertical-align: middle;\n",
       "    }\n",
       "\n",
       "    .dataframe tbody tr th {\n",
       "        vertical-align: top;\n",
       "    }\n",
       "\n",
       "    .dataframe thead th {\n",
       "        text-align: right;\n",
       "    }\n",
       "</style>\n",
       "<table border=\"1\" class=\"dataframe\">\n",
       "  <thead>\n",
       "    <tr style=\"text-align: right;\">\n",
       "      <th></th>\n",
       "      <th>cookie</th>\n",
       "      <th>time</th>\n",
       "      <th>interaction</th>\n",
       "      <th>conversion</th>\n",
       "      <th>conversion_value</th>\n",
       "      <th>channel</th>\n",
       "    </tr>\n",
       "  </thead>\n",
       "  <tbody>\n",
       "    <tr>\n",
       "      <th>0</th>\n",
       "      <td>00000FkCnDfDDf0iC97iC703B</td>\n",
       "      <td>2018-07-03T13:02:11Z</td>\n",
       "      <td>impression</td>\n",
       "      <td>0</td>\n",
       "      <td>0.0</td>\n",
       "      <td>Instagram</td>\n",
       "    </tr>\n",
       "    <tr>\n",
       "      <th>1</th>\n",
       "      <td>00000FkCnDfDDf0iC97iC703B</td>\n",
       "      <td>2018-07-17T19:15:07Z</td>\n",
       "      <td>impression</td>\n",
       "      <td>0</td>\n",
       "      <td>0.0</td>\n",
       "      <td>Online Display</td>\n",
       "    </tr>\n",
       "    <tr>\n",
       "      <th>2</th>\n",
       "      <td>00000FkCnDfDDf0iC97iC703B</td>\n",
       "      <td>2018-07-24T15:51:46Z</td>\n",
       "      <td>impression</td>\n",
       "      <td>0</td>\n",
       "      <td>0.0</td>\n",
       "      <td>Online Display</td>\n",
       "    </tr>\n",
       "    <tr>\n",
       "      <th>3</th>\n",
       "      <td>00000FkCnDfDDf0iC97iC703B</td>\n",
       "      <td>2018-07-29T07:44:51Z</td>\n",
       "      <td>impression</td>\n",
       "      <td>0</td>\n",
       "      <td>0.0</td>\n",
       "      <td>Online Display</td>\n",
       "    </tr>\n",
       "    <tr>\n",
       "      <th>4</th>\n",
       "      <td>0000nACkD9nFkBBDECD3ki00E</td>\n",
       "      <td>2018-07-03T09:44:57Z</td>\n",
       "      <td>impression</td>\n",
       "      <td>0</td>\n",
       "      <td>0.0</td>\n",
       "      <td>Paid Search</td>\n",
       "    </tr>\n",
       "    <tr>\n",
       "      <th>5</th>\n",
       "      <td>0000nACkD9nFkBBDECD3ki00E</td>\n",
       "      <td>2018-07-03T23:36:49Z</td>\n",
       "      <td>impression</td>\n",
       "      <td>0</td>\n",
       "      <td>0.0</td>\n",
       "      <td>Paid Search</td>\n",
       "    </tr>\n",
       "    <tr>\n",
       "      <th>6</th>\n",
       "      <td>0000nACkD9nFkBBDECD3ki00E</td>\n",
       "      <td>2018-07-10T22:24:41Z</td>\n",
       "      <td>impression</td>\n",
       "      <td>0</td>\n",
       "      <td>0.0</td>\n",
       "      <td>Paid Search</td>\n",
       "    </tr>\n",
       "    <tr>\n",
       "      <th>7</th>\n",
       "      <td>0000nACkD9nFkBBDECD3ki00E</td>\n",
       "      <td>2018-07-10T22:24:44Z</td>\n",
       "      <td>impression</td>\n",
       "      <td>0</td>\n",
       "      <td>0.0</td>\n",
       "      <td>Paid Search</td>\n",
       "    </tr>\n",
       "    <tr>\n",
       "      <th>8</th>\n",
       "      <td>0000nACkD9nFkBBDECD3ki00E</td>\n",
       "      <td>2018-07-11T21:21:46Z</td>\n",
       "      <td>impression</td>\n",
       "      <td>0</td>\n",
       "      <td>0.0</td>\n",
       "      <td>Paid Search</td>\n",
       "    </tr>\n",
       "    <tr>\n",
       "      <th>9</th>\n",
       "      <td>0000nACkD9nFkBBDECD3ki00E</td>\n",
       "      <td>2018-07-11T22:19:53Z</td>\n",
       "      <td>impression</td>\n",
       "      <td>0</td>\n",
       "      <td>0.0</td>\n",
       "      <td>Paid Search</td>\n",
       "    </tr>\n",
       "  </tbody>\n",
       "</table>\n",
       "</div>"
      ],
      "text/plain": [
       "                      cookie                  time interaction  conversion  \\\n",
       "0  00000FkCnDfDDf0iC97iC703B  2018-07-03T13:02:11Z  impression           0   \n",
       "1  00000FkCnDfDDf0iC97iC703B  2018-07-17T19:15:07Z  impression           0   \n",
       "2  00000FkCnDfDDf0iC97iC703B  2018-07-24T15:51:46Z  impression           0   \n",
       "3  00000FkCnDfDDf0iC97iC703B  2018-07-29T07:44:51Z  impression           0   \n",
       "4  0000nACkD9nFkBBDECD3ki00E  2018-07-03T09:44:57Z  impression           0   \n",
       "5  0000nACkD9nFkBBDECD3ki00E  2018-07-03T23:36:49Z  impression           0   \n",
       "6  0000nACkD9nFkBBDECD3ki00E  2018-07-10T22:24:41Z  impression           0   \n",
       "7  0000nACkD9nFkBBDECD3ki00E  2018-07-10T22:24:44Z  impression           0   \n",
       "8  0000nACkD9nFkBBDECD3ki00E  2018-07-11T21:21:46Z  impression           0   \n",
       "9  0000nACkD9nFkBBDECD3ki00E  2018-07-11T22:19:53Z  impression           0   \n",
       "\n",
       "   conversion_value         channel  \n",
       "0               0.0       Instagram  \n",
       "1               0.0  Online Display  \n",
       "2               0.0  Online Display  \n",
       "3               0.0  Online Display  \n",
       "4               0.0     Paid Search  \n",
       "5               0.0     Paid Search  \n",
       "6               0.0     Paid Search  \n",
       "7               0.0     Paid Search  \n",
       "8               0.0     Paid Search  \n",
       "9               0.0     Paid Search  "
      ]
     },
     "execution_count": 4,
     "metadata": {},
     "output_type": "execute_result"
    }
   ],
   "source": [
    "# 데이터는 시간 순으로 정렬됨\n",
    "df.head(10)"
   ]
  },
  {
   "cell_type": "code",
   "execution_count": 5,
   "id": "19dc3cde",
   "metadata": {},
   "outputs": [
    {
     "data": {
      "text/plain": [
       "0     impression\n",
       "22    conversion\n",
       "Name: interaction, dtype: object"
      ]
     },
     "execution_count": 5,
     "metadata": {},
     "output_type": "execute_result"
    }
   ],
   "source": [
    "df.interaction.drop_duplicates()"
   ]
  },
  {
   "cell_type": "code",
   "execution_count": 6,
   "id": "3f3d45a0",
   "metadata": {},
   "outputs": [
    {
     "data": {
      "text/plain": [
       "0          Instagram\n",
       "1     Online Display\n",
       "4        Paid Search\n",
       "18          Facebook\n",
       "24      Online Video\n",
       "Name: channel, dtype: object"
      ]
     },
     "execution_count": 6,
     "metadata": {},
     "output_type": "execute_result"
    }
   ],
   "source": [
    "df.channel.drop_duplicates()"
   ]
  },
  {
   "cell_type": "markdown",
   "id": "92a1c7b4",
   "metadata": {},
   "source": [
    "유저(쿠키)별로 보통 몇 개의 채널에 노출되었는지 확인"
   ]
  },
  {
   "cell_type": "code",
   "execution_count": 8,
   "id": "62f9fe4a",
   "metadata": {},
   "outputs": [
    {
     "data": {
      "text/html": [
       "<div>\n",
       "<style scoped>\n",
       "    .dataframe tbody tr th:only-of-type {\n",
       "        vertical-align: middle;\n",
       "    }\n",
       "\n",
       "    .dataframe tbody tr th {\n",
       "        vertical-align: top;\n",
       "    }\n",
       "\n",
       "    .dataframe thead th {\n",
       "        text-align: right;\n",
       "    }\n",
       "</style>\n",
       "<table border=\"1\" class=\"dataframe\">\n",
       "  <thead>\n",
       "    <tr style=\"text-align: right;\">\n",
       "      <th></th>\n",
       "      <th>cookie</th>\n",
       "      <th>channel</th>\n",
       "    </tr>\n",
       "  </thead>\n",
       "  <tbody>\n",
       "    <tr>\n",
       "      <th>0</th>\n",
       "      <td>00000FkCnDfDDf0iC97iC703B</td>\n",
       "      <td>2</td>\n",
       "    </tr>\n",
       "    <tr>\n",
       "      <th>1</th>\n",
       "      <td>0000nACkD9nFkBBDECD3ki00E</td>\n",
       "      <td>1</td>\n",
       "    </tr>\n",
       "    <tr>\n",
       "      <th>2</th>\n",
       "      <td>0003EfE37E93D0BC03iBhBBhF</td>\n",
       "      <td>1</td>\n",
       "    </tr>\n",
       "    <tr>\n",
       "      <th>3</th>\n",
       "      <td>00073CFE3FoFCn70fBhB3kfon</td>\n",
       "      <td>1</td>\n",
       "    </tr>\n",
       "    <tr>\n",
       "      <th>4</th>\n",
       "      <td>00079hhBkDF3k3kDkiFi9EFAD</td>\n",
       "      <td>1</td>\n",
       "    </tr>\n",
       "  </tbody>\n",
       "</table>\n",
       "</div>"
      ],
      "text/plain": [
       "                      cookie  channel\n",
       "0  00000FkCnDfDDf0iC97iC703B        2\n",
       "1  0000nACkD9nFkBBDECD3ki00E        1\n",
       "2  0003EfE37E93D0BC03iBhBBhF        1\n",
       "3  00073CFE3FoFCn70fBhB3kfon        1\n",
       "4  00079hhBkDF3k3kDkiFi9EFAD        1"
      ]
     },
     "execution_count": 8,
     "metadata": {},
     "output_type": "execute_result"
    }
   ],
   "source": [
    "df_channels_per_cookie = df.groupby('cookie').channel.nunique().reset_index()\n",
    "df_channels_per_cookie.head()"
   ]
  },
  {
   "cell_type": "code",
   "execution_count": 9,
   "id": "1c418f92",
   "metadata": {},
   "outputs": [
    {
     "data": {
      "text/html": [
       "<div>\n",
       "<style scoped>\n",
       "    .dataframe tbody tr th:only-of-type {\n",
       "        vertical-align: middle;\n",
       "    }\n",
       "\n",
       "    .dataframe tbody tr th {\n",
       "        vertical-align: top;\n",
       "    }\n",
       "\n",
       "    .dataframe thead th {\n",
       "        text-align: right;\n",
       "    }\n",
       "</style>\n",
       "<table border=\"1\" class=\"dataframe\">\n",
       "  <thead>\n",
       "    <tr style=\"text-align: right;\">\n",
       "      <th></th>\n",
       "      <th>cookie</th>\n",
       "    </tr>\n",
       "    <tr>\n",
       "      <th>channel</th>\n",
       "      <th></th>\n",
       "    </tr>\n",
       "  </thead>\n",
       "  <tbody>\n",
       "    <tr>\n",
       "      <th>1</th>\n",
       "      <td>183020</td>\n",
       "    </tr>\n",
       "    <tr>\n",
       "      <th>2</th>\n",
       "      <td>45964</td>\n",
       "    </tr>\n",
       "    <tr>\n",
       "      <th>3</th>\n",
       "      <td>9549</td>\n",
       "    </tr>\n",
       "    <tr>\n",
       "      <th>4</th>\n",
       "      <td>1473</td>\n",
       "    </tr>\n",
       "    <tr>\n",
       "      <th>5</th>\n",
       "      <td>102</td>\n",
       "    </tr>\n",
       "  </tbody>\n",
       "</table>\n",
       "</div>"
      ],
      "text/plain": [
       "         cookie\n",
       "channel        \n",
       "1        183020\n",
       "2         45964\n",
       "3          9549\n",
       "4          1473\n",
       "5           102"
      ]
     },
     "execution_count": 9,
     "metadata": {},
     "output_type": "execute_result"
    }
   ],
   "source": [
    "# 채널수 별 유저수(쿠키) 확인\n",
    "df_channels_per_cookie.groupby('channel').count()"
   ]
  },
  {
   "cell_type": "markdown",
   "id": "c2b14798",
   "metadata": {},
   "source": [
    "## 도메인 지식을 활용한 Simple 채널 기여도 분석\n",
    "- 기존에 알고 있는, 또는 잘 알려진 방법론을 사용\n",
    "- 어떤 채널이 전환에 대한 기여도가 높은지"
   ]
  },
  {
   "cell_type": "markdown",
   "id": "60af8aee",
   "metadata": {},
   "source": [
    "### Last Interaction Attribution Model\n",
    "- 마지막으로 노출/클릭한 채널의 기여도를 100%로 기여했다고 간주"
   ]
  },
  {
   "cell_type": "code",
   "execution_count": 10,
   "id": "76a152c2",
   "metadata": {},
   "outputs": [
    {
     "name": "stdout",
     "output_type": "stream",
     "text": [
      "240108\n"
     ]
    },
    {
     "data": {
      "text/html": [
       "<div>\n",
       "<style scoped>\n",
       "    .dataframe tbody tr th:only-of-type {\n",
       "        vertical-align: middle;\n",
       "    }\n",
       "\n",
       "    .dataframe tbody tr th {\n",
       "        vertical-align: top;\n",
       "    }\n",
       "\n",
       "    .dataframe thead th {\n",
       "        text-align: right;\n",
       "    }\n",
       "</style>\n",
       "<table border=\"1\" class=\"dataframe\">\n",
       "  <thead>\n",
       "    <tr style=\"text-align: right;\">\n",
       "      <th></th>\n",
       "      <th>cookie</th>\n",
       "      <th>channel</th>\n",
       "      <th>conversion</th>\n",
       "    </tr>\n",
       "  </thead>\n",
       "  <tbody>\n",
       "    <tr>\n",
       "      <th>3</th>\n",
       "      <td>00000FkCnDfDDf0iC97iC703B</td>\n",
       "      <td>Online Display</td>\n",
       "      <td>0</td>\n",
       "    </tr>\n",
       "    <tr>\n",
       "      <th>9</th>\n",
       "      <td>0000nACkD9nFkBBDECD3ki00E</td>\n",
       "      <td>Paid Search</td>\n",
       "      <td>0</td>\n",
       "    </tr>\n",
       "    <tr>\n",
       "      <th>14</th>\n",
       "      <td>0003EfE37E93D0BC03iBhBBhF</td>\n",
       "      <td>Paid Search</td>\n",
       "      <td>0</td>\n",
       "    </tr>\n",
       "    <tr>\n",
       "      <th>15</th>\n",
       "      <td>00073CFE3FoFCn70fBhB3kfon</td>\n",
       "      <td>Instagram</td>\n",
       "      <td>0</td>\n",
       "    </tr>\n",
       "    <tr>\n",
       "      <th>16</th>\n",
       "      <td>00079hhBkDF3k3kDkiFi9EFAD</td>\n",
       "      <td>Paid Search</td>\n",
       "      <td>0</td>\n",
       "    </tr>\n",
       "    <tr>\n",
       "      <th>20</th>\n",
       "      <td>0007iiAiFh3ifoo9Ehn3ABB0F</td>\n",
       "      <td>Instagram</td>\n",
       "      <td>0</td>\n",
       "    </tr>\n",
       "    <tr>\n",
       "      <th>21</th>\n",
       "      <td>0007o0nfoh9o79DDfD7DAiEnE</td>\n",
       "      <td>Facebook</td>\n",
       "      <td>0</td>\n",
       "    </tr>\n",
       "    <tr>\n",
       "      <th>22</th>\n",
       "      <td>0007oEBhnoF97AoEE3BCkFnhB</td>\n",
       "      <td>Paid Search</td>\n",
       "      <td>1</td>\n",
       "    </tr>\n",
       "    <tr>\n",
       "      <th>23</th>\n",
       "      <td>00090n9EBBEkA000C7Cik999D</td>\n",
       "      <td>Facebook</td>\n",
       "      <td>1</td>\n",
       "    </tr>\n",
       "    <tr>\n",
       "      <th>28</th>\n",
       "      <td>000A9AfDohfiBAFB0FDf3kDEE</td>\n",
       "      <td>Online Video</td>\n",
       "      <td>0</td>\n",
       "    </tr>\n",
       "  </tbody>\n",
       "</table>\n",
       "</div>"
      ],
      "text/plain": [
       "                       cookie         channel  conversion\n",
       "3   00000FkCnDfDDf0iC97iC703B  Online Display           0\n",
       "9   0000nACkD9nFkBBDECD3ki00E     Paid Search           0\n",
       "14  0003EfE37E93D0BC03iBhBBhF     Paid Search           0\n",
       "15  00073CFE3FoFCn70fBhB3kfon       Instagram           0\n",
       "16  00079hhBkDF3k3kDkiFi9EFAD     Paid Search           0\n",
       "20  0007iiAiFh3ifoo9Ehn3ABB0F       Instagram           0\n",
       "21  0007o0nfoh9o79DDfD7DAiEnE        Facebook           0\n",
       "22  0007oEBhnoF97AoEE3BCkFnhB     Paid Search           1\n",
       "23  00090n9EBBEkA000C7Cik999D        Facebook           1\n",
       "28  000A9AfDohfiBAFB0FDf3kDEE    Online Video           0"
      ]
     },
     "execution_count": 10,
     "metadata": {},
     "output_type": "execute_result"
    }
   ],
   "source": [
    "df_last_interaction = df.drop_duplicates('cookie', keep='last')[['cookie', 'channel', 'conversion']]\n",
    "print(len(df_last_interaction))\n",
    "df_last_interaction.head(10)"
   ]
  },
  {
   "cell_type": "code",
   "execution_count": 11,
   "id": "06b95fcb",
   "metadata": {},
   "outputs": [
    {
     "name": "stdout",
     "output_type": "stream",
     "text": [
      "전환수 17639\n"
     ]
    },
    {
     "data": {
      "text/html": [
       "<div>\n",
       "<style scoped>\n",
       "    .dataframe tbody tr th:only-of-type {\n",
       "        vertical-align: middle;\n",
       "    }\n",
       "\n",
       "    .dataframe tbody tr th {\n",
       "        vertical-align: top;\n",
       "    }\n",
       "\n",
       "    .dataframe thead th {\n",
       "        text-align: right;\n",
       "    }\n",
       "</style>\n",
       "<table border=\"1\" class=\"dataframe\">\n",
       "  <thead>\n",
       "    <tr style=\"text-align: right;\">\n",
       "      <th></th>\n",
       "      <th>cookie</th>\n",
       "      <th>channel</th>\n",
       "      <th>conversion</th>\n",
       "    </tr>\n",
       "  </thead>\n",
       "  <tbody>\n",
       "    <tr>\n",
       "      <th>22</th>\n",
       "      <td>0007oEBhnoF97AoEE3BCkFnhB</td>\n",
       "      <td>Paid Search</td>\n",
       "      <td>1</td>\n",
       "    </tr>\n",
       "    <tr>\n",
       "      <th>23</th>\n",
       "      <td>00090n9EBBEkA000C7Cik999D</td>\n",
       "      <td>Facebook</td>\n",
       "      <td>1</td>\n",
       "    </tr>\n",
       "    <tr>\n",
       "      <th>83</th>\n",
       "      <td>000h3n9nC0hFhE3CCnkkAof7n</td>\n",
       "      <td>Facebook</td>\n",
       "      <td>1</td>\n",
       "    </tr>\n",
       "    <tr>\n",
       "      <th>109</th>\n",
       "      <td>000hCBnCB7oi7ADAEnEBCnBEE</td>\n",
       "      <td>Online Video</td>\n",
       "      <td>1</td>\n",
       "    </tr>\n",
       "    <tr>\n",
       "      <th>124</th>\n",
       "      <td>000kiDB3D0fCfDAohCDB3ohko</td>\n",
       "      <td>Facebook</td>\n",
       "      <td>1</td>\n",
       "    </tr>\n",
       "  </tbody>\n",
       "</table>\n",
       "</div>"
      ],
      "text/plain": [
       "                        cookie       channel  conversion\n",
       "22   0007oEBhnoF97AoEE3BCkFnhB   Paid Search           1\n",
       "23   00090n9EBBEkA000C7Cik999D      Facebook           1\n",
       "83   000h3n9nC0hFhE3CCnkkAof7n      Facebook           1\n",
       "109  000hCBnCB7oi7ADAEnEBCnBEE  Online Video           1\n",
       "124  000kiDB3D0fCfDAohCDB3ohko      Facebook           1"
      ]
     },
     "execution_count": 11,
     "metadata": {},
     "output_type": "execute_result"
    }
   ],
   "source": [
    "# 전환이 된 경우 마지막으로 접한 채널이 무엇인지\n",
    "df_last_interaction_conv = df_last_interaction.loc[df_last_interaction.conversion == 1,:]\n",
    "print(\"전환수\",len(df_last_interaction_conv))\n",
    "df_last_interaction_conv.head()"
   ]
  },
  {
   "cell_type": "code",
   "execution_count": 12,
   "id": "d38d7d8d",
   "metadata": {},
   "outputs": [
    {
     "data": {
      "text/html": [
       "<div>\n",
       "<style scoped>\n",
       "    .dataframe tbody tr th:only-of-type {\n",
       "        vertical-align: middle;\n",
       "    }\n",
       "\n",
       "    .dataframe tbody tr th {\n",
       "        vertical-align: top;\n",
       "    }\n",
       "\n",
       "    .dataframe thead th {\n",
       "        text-align: right;\n",
       "    }\n",
       "</style>\n",
       "<table border=\"1\" class=\"dataframe\">\n",
       "  <thead>\n",
       "    <tr style=\"text-align: right;\">\n",
       "      <th></th>\n",
       "      <th>channel</th>\n",
       "      <th>attribution</th>\n",
       "    </tr>\n",
       "  </thead>\n",
       "  <tbody>\n",
       "    <tr>\n",
       "      <th>0</th>\n",
       "      <td>Facebook</td>\n",
       "      <td>5301</td>\n",
       "    </tr>\n",
       "    <tr>\n",
       "      <th>1</th>\n",
       "      <td>Instagram</td>\n",
       "      <td>2244</td>\n",
       "    </tr>\n",
       "    <tr>\n",
       "      <th>2</th>\n",
       "      <td>Online Display</td>\n",
       "      <td>2139</td>\n",
       "    </tr>\n",
       "    <tr>\n",
       "      <th>3</th>\n",
       "      <td>Online Video</td>\n",
       "      <td>3408</td>\n",
       "    </tr>\n",
       "    <tr>\n",
       "      <th>4</th>\n",
       "      <td>Paid Search</td>\n",
       "      <td>4547</td>\n",
       "    </tr>\n",
       "  </tbody>\n",
       "</table>\n",
       "</div>"
      ],
      "text/plain": [
       "          channel  attribution\n",
       "0        Facebook         5301\n",
       "1       Instagram         2244\n",
       "2  Online Display         2139\n",
       "3    Online Video         3408\n",
       "4     Paid Search         4547"
      ]
     },
     "execution_count": 12,
     "metadata": {},
     "output_type": "execute_result"
    }
   ],
   "source": [
    "last_interaction_attrib = (\n",
    "    df_last_interaction_conv\n",
    "    .groupby('channel')['cookie']\n",
    "    .count()\n",
    "    .reset_index()\n",
    "    .rename(columns={\"cookie\": \"attribution\"})\n",
    ")\n",
    "last_interaction_attrib"
   ]
  },
  {
   "cell_type": "markdown",
   "id": "3e69940b",
   "metadata": {},
   "source": [
    "### First Interaction Attribution Model\n",
    "- 고객이 상호작용한 첫 번째 채널이 전환 가치에 100% 기여했다고 간주"
   ]
  },
  {
   "cell_type": "code",
   "execution_count": 14,
   "id": "055748ac",
   "metadata": {},
   "outputs": [
    {
     "name": "stdout",
     "output_type": "stream",
     "text": [
      "240108\n"
     ]
    },
    {
     "data": {
      "text/html": [
       "<div>\n",
       "<style scoped>\n",
       "    .dataframe tbody tr th:only-of-type {\n",
       "        vertical-align: middle;\n",
       "    }\n",
       "\n",
       "    .dataframe tbody tr th {\n",
       "        vertical-align: top;\n",
       "    }\n",
       "\n",
       "    .dataframe thead th {\n",
       "        text-align: right;\n",
       "    }\n",
       "</style>\n",
       "<table border=\"1\" class=\"dataframe\">\n",
       "  <thead>\n",
       "    <tr style=\"text-align: right;\">\n",
       "      <th></th>\n",
       "      <th>cookie</th>\n",
       "      <th>channel</th>\n",
       "      <th>conversion</th>\n",
       "    </tr>\n",
       "  </thead>\n",
       "  <tbody>\n",
       "    <tr>\n",
       "      <th>0</th>\n",
       "      <td>00000FkCnDfDDf0iC97iC703B</td>\n",
       "      <td>Instagram</td>\n",
       "      <td>0</td>\n",
       "    </tr>\n",
       "    <tr>\n",
       "      <th>4</th>\n",
       "      <td>0000nACkD9nFkBBDECD3ki00E</td>\n",
       "      <td>Paid Search</td>\n",
       "      <td>0</td>\n",
       "    </tr>\n",
       "    <tr>\n",
       "      <th>10</th>\n",
       "      <td>0003EfE37E93D0BC03iBhBBhF</td>\n",
       "      <td>Paid Search</td>\n",
       "      <td>0</td>\n",
       "    </tr>\n",
       "    <tr>\n",
       "      <th>15</th>\n",
       "      <td>00073CFE3FoFCn70fBhB3kfon</td>\n",
       "      <td>Instagram</td>\n",
       "      <td>0</td>\n",
       "    </tr>\n",
       "    <tr>\n",
       "      <th>16</th>\n",
       "      <td>00079hhBkDF3k3kDkiFi9EFAD</td>\n",
       "      <td>Paid Search</td>\n",
       "      <td>0</td>\n",
       "    </tr>\n",
       "    <tr>\n",
       "      <th>17</th>\n",
       "      <td>0007iiAiFh3ifoo9Ehn3ABB0F</td>\n",
       "      <td>Instagram</td>\n",
       "      <td>0</td>\n",
       "    </tr>\n",
       "    <tr>\n",
       "      <th>21</th>\n",
       "      <td>0007o0nfoh9o79DDfD7DAiEnE</td>\n",
       "      <td>Facebook</td>\n",
       "      <td>0</td>\n",
       "    </tr>\n",
       "    <tr>\n",
       "      <th>22</th>\n",
       "      <td>0007oEBhnoF97AoEE3BCkFnhB</td>\n",
       "      <td>Paid Search</td>\n",
       "      <td>1</td>\n",
       "    </tr>\n",
       "    <tr>\n",
       "      <th>23</th>\n",
       "      <td>00090n9EBBEkA000C7Cik999D</td>\n",
       "      <td>Facebook</td>\n",
       "      <td>1</td>\n",
       "    </tr>\n",
       "    <tr>\n",
       "      <th>24</th>\n",
       "      <td>000A9AfDohfiBAFB0FDf3kDEE</td>\n",
       "      <td>Online Video</td>\n",
       "      <td>0</td>\n",
       "    </tr>\n",
       "  </tbody>\n",
       "</table>\n",
       "</div>"
      ],
      "text/plain": [
       "                       cookie       channel  conversion\n",
       "0   00000FkCnDfDDf0iC97iC703B     Instagram           0\n",
       "4   0000nACkD9nFkBBDECD3ki00E   Paid Search           0\n",
       "10  0003EfE37E93D0BC03iBhBBhF   Paid Search           0\n",
       "15  00073CFE3FoFCn70fBhB3kfon     Instagram           0\n",
       "16  00079hhBkDF3k3kDkiFi9EFAD   Paid Search           0\n",
       "17  0007iiAiFh3ifoo9Ehn3ABB0F     Instagram           0\n",
       "21  0007o0nfoh9o79DDfD7DAiEnE      Facebook           0\n",
       "22  0007oEBhnoF97AoEE3BCkFnhB   Paid Search           1\n",
       "23  00090n9EBBEkA000C7Cik999D      Facebook           1\n",
       "24  000A9AfDohfiBAFB0FDf3kDEE  Online Video           0"
      ]
     },
     "execution_count": 14,
     "metadata": {},
     "output_type": "execute_result"
    }
   ],
   "source": [
    "# 유저가 처음으로 접한 채널\n",
    "df_first_interaction = df.drop_duplicates('cookie', keep='first')[['cookie', 'channel', 'conversion']]\n",
    "print(len(df_first_interaction))\n",
    "df_first_interaction.head(10)"
   ]
  },
  {
   "cell_type": "code",
   "execution_count": 15,
   "id": "1449c2fb",
   "metadata": {},
   "outputs": [
    {
     "name": "stdout",
     "output_type": "stream",
     "text": [
      "17639\n"
     ]
    }
   ],
   "source": [
    "# 전환이 된 쿠키 아이디가 모여있는 데이터\n",
    "print(len(df_last_interaction_conv))"
   ]
  },
  {
   "cell_type": "code",
   "execution_count": 16,
   "id": "24ad003b",
   "metadata": {},
   "outputs": [
    {
     "name": "stdout",
     "output_type": "stream",
     "text": [
      "17639\n"
     ]
    }
   ],
   "source": [
    "# 전환 데이터와 merge\n",
    "df_first_interaction_conv = (\n",
    "    df_first_interaction[['cookie', 'channel']]\n",
    "      .merge(df_last_interaction_conv[['cookie', 'conversion']], \n",
    "             on='cookie')\n",
    ")\n",
    "\n",
    "print(len(df_first_interaction_conv))"
   ]
  },
  {
   "cell_type": "code",
   "execution_count": 17,
   "id": "787061dc",
   "metadata": {},
   "outputs": [
    {
     "data": {
      "text/html": [
       "<div>\n",
       "<style scoped>\n",
       "    .dataframe tbody tr th:only-of-type {\n",
       "        vertical-align: middle;\n",
       "    }\n",
       "\n",
       "    .dataframe tbody tr th {\n",
       "        vertical-align: top;\n",
       "    }\n",
       "\n",
       "    .dataframe thead th {\n",
       "        text-align: right;\n",
       "    }\n",
       "</style>\n",
       "<table border=\"1\" class=\"dataframe\">\n",
       "  <thead>\n",
       "    <tr style=\"text-align: right;\">\n",
       "      <th></th>\n",
       "      <th>channel</th>\n",
       "      <th>attribution</th>\n",
       "    </tr>\n",
       "  </thead>\n",
       "  <tbody>\n",
       "    <tr>\n",
       "      <th>0</th>\n",
       "      <td>Facebook</td>\n",
       "      <td>5177</td>\n",
       "    </tr>\n",
       "    <tr>\n",
       "      <th>1</th>\n",
       "      <td>Instagram</td>\n",
       "      <td>2329</td>\n",
       "    </tr>\n",
       "    <tr>\n",
       "      <th>2</th>\n",
       "      <td>Online Display</td>\n",
       "      <td>2160</td>\n",
       "    </tr>\n",
       "    <tr>\n",
       "      <th>3</th>\n",
       "      <td>Online Video</td>\n",
       "      <td>3216</td>\n",
       "    </tr>\n",
       "    <tr>\n",
       "      <th>4</th>\n",
       "      <td>Paid Search</td>\n",
       "      <td>4757</td>\n",
       "    </tr>\n",
       "  </tbody>\n",
       "</table>\n",
       "</div>"
      ],
      "text/plain": [
       "          channel  attribution\n",
       "0        Facebook         5177\n",
       "1       Instagram         2329\n",
       "2  Online Display         2160\n",
       "3    Online Video         3216\n",
       "4     Paid Search         4757"
      ]
     },
     "execution_count": 17,
     "metadata": {},
     "output_type": "execute_result"
    }
   ],
   "source": [
    "first_interaction_attrib = (\n",
    "    df_first_interaction_conv\n",
    "    .groupby('channel')['cookie']\n",
    "    .count()\n",
    "    .reset_index()\n",
    "    .rename(columns={\"cookie\": \"attribution\"})\n",
    ")\n",
    "first_interaction_attrib"
   ]
  },
  {
   "cell_type": "markdown",
   "id": "70ef1e39",
   "metadata": {},
   "source": [
    "### Linear Interaction Attribution Model\n",
    "- 전환 경로에서 발생한 모든 채널의 기여도가 균등하다고 가정\n"
   ]
  },
  {
   "cell_type": "markdown",
   "id": "84844681",
   "metadata": {},
   "source": [
    "먼저 유저 아이디 별로 중복되는 채널은 제거"
   ]
  },
  {
   "cell_type": "code",
   "execution_count": 18,
   "id": "8a47015d",
   "metadata": {},
   "outputs": [
    {
     "name": "stdout",
     "output_type": "stream",
     "text": [
      "309997\n"
     ]
    },
    {
     "data": {
      "text/html": [
       "<div>\n",
       "<style scoped>\n",
       "    .dataframe tbody tr th:only-of-type {\n",
       "        vertical-align: middle;\n",
       "    }\n",
       "\n",
       "    .dataframe tbody tr th {\n",
       "        vertical-align: top;\n",
       "    }\n",
       "\n",
       "    .dataframe thead th {\n",
       "        text-align: right;\n",
       "    }\n",
       "</style>\n",
       "<table border=\"1\" class=\"dataframe\">\n",
       "  <thead>\n",
       "    <tr style=\"text-align: right;\">\n",
       "      <th></th>\n",
       "      <th>cookie</th>\n",
       "      <th>channel</th>\n",
       "    </tr>\n",
       "  </thead>\n",
       "  <tbody>\n",
       "    <tr>\n",
       "      <th>0</th>\n",
       "      <td>00000FkCnDfDDf0iC97iC703B</td>\n",
       "      <td>Instagram</td>\n",
       "    </tr>\n",
       "    <tr>\n",
       "      <th>3</th>\n",
       "      <td>00000FkCnDfDDf0iC97iC703B</td>\n",
       "      <td>Online Display</td>\n",
       "    </tr>\n",
       "    <tr>\n",
       "      <th>9</th>\n",
       "      <td>0000nACkD9nFkBBDECD3ki00E</td>\n",
       "      <td>Paid Search</td>\n",
       "    </tr>\n",
       "    <tr>\n",
       "      <th>14</th>\n",
       "      <td>0003EfE37E93D0BC03iBhBBhF</td>\n",
       "      <td>Paid Search</td>\n",
       "    </tr>\n",
       "    <tr>\n",
       "      <th>15</th>\n",
       "      <td>00073CFE3FoFCn70fBhB3kfon</td>\n",
       "      <td>Instagram</td>\n",
       "    </tr>\n",
       "  </tbody>\n",
       "</table>\n",
       "</div>"
      ],
      "text/plain": [
       "                       cookie         channel\n",
       "0   00000FkCnDfDDf0iC97iC703B       Instagram\n",
       "3   00000FkCnDfDDf0iC97iC703B  Online Display\n",
       "9   0000nACkD9nFkBBDECD3ki00E     Paid Search\n",
       "14  0003EfE37E93D0BC03iBhBBhF     Paid Search\n",
       "15  00073CFE3FoFCn70fBhB3kfon       Instagram"
      ]
     },
     "execution_count": 18,
     "metadata": {},
     "output_type": "execute_result"
    }
   ],
   "source": [
    "# 각 유저 별로 채널 별 데이터를 각 1개씩 남김\n",
    "df_uniq_chl = df.drop_duplicates(['cookie', 'channel'], keep='last')[['cookie', 'channel']]\n",
    "print(len(df_uniq_chl))\n",
    "df_uniq_chl.head()"
   ]
  },
  {
   "cell_type": "markdown",
   "id": "95eda8cf",
   "metadata": {},
   "source": [
    "유저 아이디 별 채널 수를 구한다 (기여도를 균등하게 나눌 때 이 값을 사용)"
   ]
  },
  {
   "cell_type": "code",
   "execution_count": 19,
   "id": "24b28dc1",
   "metadata": {},
   "outputs": [
    {
     "data": {
      "text/html": [
       "<div>\n",
       "<style scoped>\n",
       "    .dataframe tbody tr th:only-of-type {\n",
       "        vertical-align: middle;\n",
       "    }\n",
       "\n",
       "    .dataframe tbody tr th {\n",
       "        vertical-align: top;\n",
       "    }\n",
       "\n",
       "    .dataframe thead th {\n",
       "        text-align: right;\n",
       "    }\n",
       "</style>\n",
       "<table border=\"1\" class=\"dataframe\">\n",
       "  <thead>\n",
       "    <tr style=\"text-align: right;\">\n",
       "      <th></th>\n",
       "      <th>cookie</th>\n",
       "      <th>channel_cnt</th>\n",
       "    </tr>\n",
       "  </thead>\n",
       "  <tbody>\n",
       "    <tr>\n",
       "      <th>0</th>\n",
       "      <td>00000FkCnDfDDf0iC97iC703B</td>\n",
       "      <td>2</td>\n",
       "    </tr>\n",
       "    <tr>\n",
       "      <th>1</th>\n",
       "      <td>0000nACkD9nFkBBDECD3ki00E</td>\n",
       "      <td>1</td>\n",
       "    </tr>\n",
       "    <tr>\n",
       "      <th>2</th>\n",
       "      <td>0003EfE37E93D0BC03iBhBBhF</td>\n",
       "      <td>1</td>\n",
       "    </tr>\n",
       "    <tr>\n",
       "      <th>3</th>\n",
       "      <td>00073CFE3FoFCn70fBhB3kfon</td>\n",
       "      <td>1</td>\n",
       "    </tr>\n",
       "    <tr>\n",
       "      <th>4</th>\n",
       "      <td>00079hhBkDF3k3kDkiFi9EFAD</td>\n",
       "      <td>1</td>\n",
       "    </tr>\n",
       "  </tbody>\n",
       "</table>\n",
       "</div>"
      ],
      "text/plain": [
       "                      cookie  channel_cnt\n",
       "0  00000FkCnDfDDf0iC97iC703B            2\n",
       "1  0000nACkD9nFkBBDECD3ki00E            1\n",
       "2  0003EfE37E93D0BC03iBhBBhF            1\n",
       "3  00073CFE3FoFCn70fBhB3kfon            1\n",
       "4  00079hhBkDF3k3kDkiFi9EFAD            1"
      ]
     },
     "execution_count": 19,
     "metadata": {},
     "output_type": "execute_result"
    }
   ],
   "source": [
    "df_uniq_chl_cnt = (\n",
    "    df_uniq_chl\n",
    "    .groupby('cookie')\n",
    "    .count()\n",
    "    .rename(columns = {\"channel\": \"channel_cnt\"})\n",
    "    .reset_index()\n",
    ")\n",
    "df_uniq_chl_cnt.head()"
   ]
  },
  {
   "cell_type": "code",
   "execution_count": 20,
   "id": "af2b4fca",
   "metadata": {},
   "outputs": [
    {
     "data": {
      "text/html": [
       "<div>\n",
       "<style scoped>\n",
       "    .dataframe tbody tr th:only-of-type {\n",
       "        vertical-align: middle;\n",
       "    }\n",
       "\n",
       "    .dataframe tbody tr th {\n",
       "        vertical-align: top;\n",
       "    }\n",
       "\n",
       "    .dataframe thead th {\n",
       "        text-align: right;\n",
       "    }\n",
       "</style>\n",
       "<table border=\"1\" class=\"dataframe\">\n",
       "  <thead>\n",
       "    <tr style=\"text-align: right;\">\n",
       "      <th></th>\n",
       "      <th>cookie</th>\n",
       "      <th>channel</th>\n",
       "      <th>channel_cnt</th>\n",
       "    </tr>\n",
       "  </thead>\n",
       "  <tbody>\n",
       "    <tr>\n",
       "      <th>0</th>\n",
       "      <td>00000FkCnDfDDf0iC97iC703B</td>\n",
       "      <td>Instagram</td>\n",
       "      <td>2</td>\n",
       "    </tr>\n",
       "    <tr>\n",
       "      <th>1</th>\n",
       "      <td>00000FkCnDfDDf0iC97iC703B</td>\n",
       "      <td>Online Display</td>\n",
       "      <td>2</td>\n",
       "    </tr>\n",
       "    <tr>\n",
       "      <th>2</th>\n",
       "      <td>0000nACkD9nFkBBDECD3ki00E</td>\n",
       "      <td>Paid Search</td>\n",
       "      <td>1</td>\n",
       "    </tr>\n",
       "    <tr>\n",
       "      <th>3</th>\n",
       "      <td>0003EfE37E93D0BC03iBhBBhF</td>\n",
       "      <td>Paid Search</td>\n",
       "      <td>1</td>\n",
       "    </tr>\n",
       "    <tr>\n",
       "      <th>4</th>\n",
       "      <td>00073CFE3FoFCn70fBhB3kfon</td>\n",
       "      <td>Instagram</td>\n",
       "      <td>1</td>\n",
       "    </tr>\n",
       "  </tbody>\n",
       "</table>\n",
       "</div>"
      ],
      "text/plain": [
       "                      cookie         channel  channel_cnt\n",
       "0  00000FkCnDfDDf0iC97iC703B       Instagram            2\n",
       "1  00000FkCnDfDDf0iC97iC703B  Online Display            2\n",
       "2  0000nACkD9nFkBBDECD3ki00E     Paid Search            1\n",
       "3  0003EfE37E93D0BC03iBhBBhF     Paid Search            1\n",
       "4  00073CFE3FoFCn70fBhB3kfon       Instagram            1"
      ]
     },
     "execution_count": 20,
     "metadata": {},
     "output_type": "execute_result"
    }
   ],
   "source": [
    "df_uniq_chl_total = df_uniq_chl.merge(df_uniq_chl_cnt, on = 'cookie')\n",
    "df_uniq_chl_total.head()"
   ]
  },
  {
   "cell_type": "code",
   "execution_count": 21,
   "id": "54e72a38",
   "metadata": {},
   "outputs": [],
   "source": [
    "# 전환 데이터와 merge\n",
    "df_linear_interaction_conv = (\n",
    "    df_uniq_chl_total\n",
    "      .merge(df_last_interaction_conv[['cookie', 'conversion']], \n",
    "             on='cookie')\n",
    ")"
   ]
  },
  {
   "cell_type": "code",
   "execution_count": 22,
   "id": "fd878ee8",
   "metadata": {},
   "outputs": [
    {
     "data": {
      "text/plain": [
       "24716"
      ]
     },
     "execution_count": 22,
     "metadata": {},
     "output_type": "execute_result"
    }
   ],
   "source": [
    "len(df_linear_interaction_conv)"
   ]
  },
  {
   "cell_type": "code",
   "execution_count": 23,
   "id": "6a827db5",
   "metadata": {},
   "outputs": [],
   "source": [
    "#전환을 채널수로 나누기\n",
    "df_linear_interaction_conv['linear_attr'] = (\n",
    "    df_linear_interaction_conv.conversion\n",
    "            .divide(\n",
    "                df_linear_interaction_conv.channel_cnt\n",
    "            ) \n",
    ")"
   ]
  },
  {
   "cell_type": "code",
   "execution_count": 24,
   "id": "59963c2d",
   "metadata": {},
   "outputs": [
    {
     "data": {
      "text/html": [
       "<div>\n",
       "<style scoped>\n",
       "    .dataframe tbody tr th:only-of-type {\n",
       "        vertical-align: middle;\n",
       "    }\n",
       "\n",
       "    .dataframe tbody tr th {\n",
       "        vertical-align: top;\n",
       "    }\n",
       "\n",
       "    .dataframe thead th {\n",
       "        text-align: right;\n",
       "    }\n",
       "</style>\n",
       "<table border=\"1\" class=\"dataframe\">\n",
       "  <thead>\n",
       "    <tr style=\"text-align: right;\">\n",
       "      <th></th>\n",
       "      <th>cookie</th>\n",
       "      <th>channel</th>\n",
       "      <th>channel_cnt</th>\n",
       "      <th>conversion</th>\n",
       "      <th>linear_attr</th>\n",
       "    </tr>\n",
       "  </thead>\n",
       "  <tbody>\n",
       "    <tr>\n",
       "      <th>0</th>\n",
       "      <td>0007oEBhnoF97AoEE3BCkFnhB</td>\n",
       "      <td>Paid Search</td>\n",
       "      <td>1</td>\n",
       "      <td>1</td>\n",
       "      <td>1.0</td>\n",
       "    </tr>\n",
       "    <tr>\n",
       "      <th>1</th>\n",
       "      <td>00090n9EBBEkA000C7Cik999D</td>\n",
       "      <td>Facebook</td>\n",
       "      <td>1</td>\n",
       "      <td>1</td>\n",
       "      <td>1.0</td>\n",
       "    </tr>\n",
       "    <tr>\n",
       "      <th>2</th>\n",
       "      <td>000h3n9nC0hFhE3CCnkkAof7n</td>\n",
       "      <td>Facebook</td>\n",
       "      <td>1</td>\n",
       "      <td>1</td>\n",
       "      <td>1.0</td>\n",
       "    </tr>\n",
       "    <tr>\n",
       "      <th>3</th>\n",
       "      <td>000hCBnCB7oi7ADAEnEBCnBEE</td>\n",
       "      <td>Instagram</td>\n",
       "      <td>2</td>\n",
       "      <td>1</td>\n",
       "      <td>0.5</td>\n",
       "    </tr>\n",
       "    <tr>\n",
       "      <th>4</th>\n",
       "      <td>000hCBnCB7oi7ADAEnEBCnBEE</td>\n",
       "      <td>Online Video</td>\n",
       "      <td>2</td>\n",
       "      <td>1</td>\n",
       "      <td>0.5</td>\n",
       "    </tr>\n",
       "  </tbody>\n",
       "</table>\n",
       "</div>"
      ],
      "text/plain": [
       "                      cookie       channel  channel_cnt  conversion  \\\n",
       "0  0007oEBhnoF97AoEE3BCkFnhB   Paid Search            1           1   \n",
       "1  00090n9EBBEkA000C7Cik999D      Facebook            1           1   \n",
       "2  000h3n9nC0hFhE3CCnkkAof7n      Facebook            1           1   \n",
       "3  000hCBnCB7oi7ADAEnEBCnBEE     Instagram            2           1   \n",
       "4  000hCBnCB7oi7ADAEnEBCnBEE  Online Video            2           1   \n",
       "\n",
       "   linear_attr  \n",
       "0          1.0  \n",
       "1          1.0  \n",
       "2          1.0  \n",
       "3          0.5  \n",
       "4          0.5  "
      ]
     },
     "execution_count": 24,
     "metadata": {},
     "output_type": "execute_result"
    }
   ],
   "source": [
    "df_linear_interaction_conv.head()"
   ]
  },
  {
   "cell_type": "code",
   "execution_count": 25,
   "id": "70690006",
   "metadata": {},
   "outputs": [
    {
     "data": {
      "text/html": [
       "<div>\n",
       "<style scoped>\n",
       "    .dataframe tbody tr th:only-of-type {\n",
       "        vertical-align: middle;\n",
       "    }\n",
       "\n",
       "    .dataframe tbody tr th {\n",
       "        vertical-align: top;\n",
       "    }\n",
       "\n",
       "    .dataframe thead th {\n",
       "        text-align: right;\n",
       "    }\n",
       "</style>\n",
       "<table border=\"1\" class=\"dataframe\">\n",
       "  <thead>\n",
       "    <tr style=\"text-align: right;\">\n",
       "      <th></th>\n",
       "      <th>channel</th>\n",
       "      <th>attribution</th>\n",
       "    </tr>\n",
       "  </thead>\n",
       "  <tbody>\n",
       "    <tr>\n",
       "      <th>0</th>\n",
       "      <td>Facebook</td>\n",
       "      <td>4947.600000</td>\n",
       "    </tr>\n",
       "    <tr>\n",
       "      <th>1</th>\n",
       "      <td>Instagram</td>\n",
       "      <td>2627.100000</td>\n",
       "    </tr>\n",
       "    <tr>\n",
       "      <th>2</th>\n",
       "      <td>Online Display</td>\n",
       "      <td>2143.600000</td>\n",
       "    </tr>\n",
       "    <tr>\n",
       "      <th>3</th>\n",
       "      <td>Online Video</td>\n",
       "      <td>3192.183333</td>\n",
       "    </tr>\n",
       "    <tr>\n",
       "      <th>4</th>\n",
       "      <td>Paid Search</td>\n",
       "      <td>4728.516667</td>\n",
       "    </tr>\n",
       "  </tbody>\n",
       "</table>\n",
       "</div>"
      ],
      "text/plain": [
       "          channel  attribution\n",
       "0        Facebook  4947.600000\n",
       "1       Instagram  2627.100000\n",
       "2  Online Display  2143.600000\n",
       "3    Online Video  3192.183333\n",
       "4     Paid Search  4728.516667"
      ]
     },
     "execution_count": 25,
     "metadata": {},
     "output_type": "execute_result"
    }
   ],
   "source": [
    "# 채널별 기여도의 합\n",
    "\n",
    "linear_interaction_attrib = (\n",
    "    df_linear_interaction_conv\n",
    "    .groupby('channel')['linear_attr']\n",
    "    .sum()\n",
    "    .reset_index()\n",
    "    .rename(columns={\"linear_attr\": \"attribution\"})\n",
    ")\n",
    "linear_interaction_attrib"
   ]
  },
  {
   "cell_type": "markdown",
   "id": "d9177979",
   "metadata": {},
   "source": [
    "### 3가지 기여도 분석방법 비교"
   ]
  },
  {
   "cell_type": "code",
   "execution_count": 26,
   "id": "f1976ce1",
   "metadata": {},
   "outputs": [],
   "source": [
    "last_interaction_attrib[\"method\"] = \"last\"\n",
    "first_interaction_attrib[\"method\"] = \"first\"\n",
    "linear_interaction_attrib[\"method\"] = \"linear\""
   ]
  },
  {
   "cell_type": "code",
   "execution_count": 27,
   "id": "12bdddd0",
   "metadata": {},
   "outputs": [
    {
     "data": {
      "text/html": [
       "<div>\n",
       "<style scoped>\n",
       "    .dataframe tbody tr th:only-of-type {\n",
       "        vertical-align: middle;\n",
       "    }\n",
       "\n",
       "    .dataframe tbody tr th {\n",
       "        vertical-align: top;\n",
       "    }\n",
       "\n",
       "    .dataframe thead th {\n",
       "        text-align: right;\n",
       "    }\n",
       "</style>\n",
       "<table border=\"1\" class=\"dataframe\">\n",
       "  <thead>\n",
       "    <tr style=\"text-align: right;\">\n",
       "      <th></th>\n",
       "      <th>channel</th>\n",
       "      <th>attribution</th>\n",
       "      <th>method</th>\n",
       "    </tr>\n",
       "  </thead>\n",
       "  <tbody>\n",
       "    <tr>\n",
       "      <th>0</th>\n",
       "      <td>Facebook</td>\n",
       "      <td>5301</td>\n",
       "      <td>last</td>\n",
       "    </tr>\n",
       "    <tr>\n",
       "      <th>1</th>\n",
       "      <td>Instagram</td>\n",
       "      <td>2244</td>\n",
       "      <td>last</td>\n",
       "    </tr>\n",
       "    <tr>\n",
       "      <th>2</th>\n",
       "      <td>Online Display</td>\n",
       "      <td>2139</td>\n",
       "      <td>last</td>\n",
       "    </tr>\n",
       "    <tr>\n",
       "      <th>3</th>\n",
       "      <td>Online Video</td>\n",
       "      <td>3408</td>\n",
       "      <td>last</td>\n",
       "    </tr>\n",
       "    <tr>\n",
       "      <th>4</th>\n",
       "      <td>Paid Search</td>\n",
       "      <td>4547</td>\n",
       "      <td>last</td>\n",
       "    </tr>\n",
       "  </tbody>\n",
       "</table>\n",
       "</div>"
      ],
      "text/plain": [
       "          channel  attribution method\n",
       "0        Facebook         5301   last\n",
       "1       Instagram         2244   last\n",
       "2  Online Display         2139   last\n",
       "3    Online Video         3408   last\n",
       "4     Paid Search         4547   last"
      ]
     },
     "execution_count": 27,
     "metadata": {},
     "output_type": "execute_result"
    }
   ],
   "source": [
    "last_interaction_attrib"
   ]
  },
  {
   "cell_type": "code",
   "execution_count": 28,
   "id": "3fb5cb04",
   "metadata": {},
   "outputs": [
    {
     "data": {
      "text/html": [
       "<div>\n",
       "<style scoped>\n",
       "    .dataframe tbody tr th:only-of-type {\n",
       "        vertical-align: middle;\n",
       "    }\n",
       "\n",
       "    .dataframe tbody tr th {\n",
       "        vertical-align: top;\n",
       "    }\n",
       "\n",
       "    .dataframe thead th {\n",
       "        text-align: right;\n",
       "    }\n",
       "</style>\n",
       "<table border=\"1\" class=\"dataframe\">\n",
       "  <thead>\n",
       "    <tr style=\"text-align: right;\">\n",
       "      <th></th>\n",
       "      <th>channel</th>\n",
       "      <th>attribution</th>\n",
       "      <th>method</th>\n",
       "    </tr>\n",
       "  </thead>\n",
       "  <tbody>\n",
       "    <tr>\n",
       "      <th>0</th>\n",
       "      <td>Facebook</td>\n",
       "      <td>4947.600000</td>\n",
       "      <td>linear</td>\n",
       "    </tr>\n",
       "    <tr>\n",
       "      <th>1</th>\n",
       "      <td>Instagram</td>\n",
       "      <td>2627.100000</td>\n",
       "      <td>linear</td>\n",
       "    </tr>\n",
       "    <tr>\n",
       "      <th>2</th>\n",
       "      <td>Online Display</td>\n",
       "      <td>2143.600000</td>\n",
       "      <td>linear</td>\n",
       "    </tr>\n",
       "    <tr>\n",
       "      <th>3</th>\n",
       "      <td>Online Video</td>\n",
       "      <td>3192.183333</td>\n",
       "      <td>linear</td>\n",
       "    </tr>\n",
       "    <tr>\n",
       "      <th>4</th>\n",
       "      <td>Paid Search</td>\n",
       "      <td>4728.516667</td>\n",
       "      <td>linear</td>\n",
       "    </tr>\n",
       "  </tbody>\n",
       "</table>\n",
       "</div>"
      ],
      "text/plain": [
       "          channel  attribution  method\n",
       "0        Facebook  4947.600000  linear\n",
       "1       Instagram  2627.100000  linear\n",
       "2  Online Display  2143.600000  linear\n",
       "3    Online Video  3192.183333  linear\n",
       "4     Paid Search  4728.516667  linear"
      ]
     },
     "execution_count": 28,
     "metadata": {},
     "output_type": "execute_result"
    }
   ],
   "source": [
    "linear_interaction_attrib"
   ]
  },
  {
   "cell_type": "code",
   "execution_count": 29,
   "id": "0646738b",
   "metadata": {},
   "outputs": [
    {
     "data": {
      "text/html": [
       "<div>\n",
       "<style scoped>\n",
       "    .dataframe tbody tr th:only-of-type {\n",
       "        vertical-align: middle;\n",
       "    }\n",
       "\n",
       "    .dataframe tbody tr th {\n",
       "        vertical-align: top;\n",
       "    }\n",
       "\n",
       "    .dataframe thead th {\n",
       "        text-align: right;\n",
       "    }\n",
       "</style>\n",
       "<table border=\"1\" class=\"dataframe\">\n",
       "  <thead>\n",
       "    <tr style=\"text-align: right;\">\n",
       "      <th></th>\n",
       "      <th>channel</th>\n",
       "      <th>attribution</th>\n",
       "      <th>method</th>\n",
       "    </tr>\n",
       "  </thead>\n",
       "  <tbody>\n",
       "    <tr>\n",
       "      <th>0</th>\n",
       "      <td>Facebook</td>\n",
       "      <td>5301.000000</td>\n",
       "      <td>last</td>\n",
       "    </tr>\n",
       "    <tr>\n",
       "      <th>1</th>\n",
       "      <td>Instagram</td>\n",
       "      <td>2244.000000</td>\n",
       "      <td>last</td>\n",
       "    </tr>\n",
       "    <tr>\n",
       "      <th>2</th>\n",
       "      <td>Online Display</td>\n",
       "      <td>2139.000000</td>\n",
       "      <td>last</td>\n",
       "    </tr>\n",
       "    <tr>\n",
       "      <th>3</th>\n",
       "      <td>Online Video</td>\n",
       "      <td>3408.000000</td>\n",
       "      <td>last</td>\n",
       "    </tr>\n",
       "    <tr>\n",
       "      <th>4</th>\n",
       "      <td>Paid Search</td>\n",
       "      <td>4547.000000</td>\n",
       "      <td>last</td>\n",
       "    </tr>\n",
       "    <tr>\n",
       "      <th>5</th>\n",
       "      <td>Facebook</td>\n",
       "      <td>5177.000000</td>\n",
       "      <td>first</td>\n",
       "    </tr>\n",
       "    <tr>\n",
       "      <th>6</th>\n",
       "      <td>Instagram</td>\n",
       "      <td>2329.000000</td>\n",
       "      <td>first</td>\n",
       "    </tr>\n",
       "    <tr>\n",
       "      <th>7</th>\n",
       "      <td>Online Display</td>\n",
       "      <td>2160.000000</td>\n",
       "      <td>first</td>\n",
       "    </tr>\n",
       "    <tr>\n",
       "      <th>8</th>\n",
       "      <td>Online Video</td>\n",
       "      <td>3216.000000</td>\n",
       "      <td>first</td>\n",
       "    </tr>\n",
       "    <tr>\n",
       "      <th>9</th>\n",
       "      <td>Paid Search</td>\n",
       "      <td>4757.000000</td>\n",
       "      <td>first</td>\n",
       "    </tr>\n",
       "    <tr>\n",
       "      <th>10</th>\n",
       "      <td>Facebook</td>\n",
       "      <td>4947.600000</td>\n",
       "      <td>linear</td>\n",
       "    </tr>\n",
       "    <tr>\n",
       "      <th>11</th>\n",
       "      <td>Instagram</td>\n",
       "      <td>2627.100000</td>\n",
       "      <td>linear</td>\n",
       "    </tr>\n",
       "    <tr>\n",
       "      <th>12</th>\n",
       "      <td>Online Display</td>\n",
       "      <td>2143.600000</td>\n",
       "      <td>linear</td>\n",
       "    </tr>\n",
       "    <tr>\n",
       "      <th>13</th>\n",
       "      <td>Online Video</td>\n",
       "      <td>3192.183333</td>\n",
       "      <td>linear</td>\n",
       "    </tr>\n",
       "    <tr>\n",
       "      <th>14</th>\n",
       "      <td>Paid Search</td>\n",
       "      <td>4728.516667</td>\n",
       "      <td>linear</td>\n",
       "    </tr>\n",
       "  </tbody>\n",
       "</table>\n",
       "</div>"
      ],
      "text/plain": [
       "           channel  attribution  method\n",
       "0         Facebook  5301.000000    last\n",
       "1        Instagram  2244.000000    last\n",
       "2   Online Display  2139.000000    last\n",
       "3     Online Video  3408.000000    last\n",
       "4      Paid Search  4547.000000    last\n",
       "5         Facebook  5177.000000   first\n",
       "6        Instagram  2329.000000   first\n",
       "7   Online Display  2160.000000   first\n",
       "8     Online Video  3216.000000   first\n",
       "9      Paid Search  4757.000000   first\n",
       "10        Facebook  4947.600000  linear\n",
       "11       Instagram  2627.100000  linear\n",
       "12  Online Display  2143.600000  linear\n",
       "13    Online Video  3192.183333  linear\n",
       "14     Paid Search  4728.516667  linear"
      ]
     },
     "execution_count": 29,
     "metadata": {},
     "output_type": "execute_result"
    }
   ],
   "source": [
    "total_data = (\n",
    "    last_interaction_attrib\n",
    "    .append(first_interaction_attrib, ignore_index=True)\n",
    "    .append(linear_interaction_attrib, ignore_index=True)\n",
    ")\n",
    "\n",
    "total_data"
   ]
  },
  {
   "cell_type": "code",
   "execution_count": 30,
   "id": "c5f47ddf",
   "metadata": {},
   "outputs": [
    {
     "data": {
      "image/png": "[encoded data removed]",
      "text/plain": [
       "<Figure size 720x504 with 1 Axes>"
      ]
     },
     "metadata": {},
     "output_type": "display_data"
    }
   ],
   "source": [
    "sns.set_theme(style=\"whitegrid\", palette=\"Paired\") # 테마를 설정한다\n",
    "g = sns.barplot(x=total_data.channel, y=total_data.attribution, hue = total_data.method)\n",
    "g.figure.set_size_inches(10, 7)"
   ]
  },
  {
   "cell_type": "markdown",
   "id": "31e3c2a3",
   "metadata": {},
   "source": [
    "# Markov Chain 을 통한 채널 기여도 분석\n",
    "\n",
    "- 유저가 여러 경로를 통해 제품을 접하고 구매를 할 때 통계적인 방법으로 기여도 분배# "
   ]
  },
  {
   "cell_type": "markdown",
   "id": "96d54cfa",
   "metadata": {},
   "source": [
    "## 각 채널로 움직이는 전이 확률 (Transition Probability) 구하기"
   ]
  },
  {
   "cell_type": "code",
   "execution_count": 31,
   "id": "da9484c2",
   "metadata": {},
   "outputs": [],
   "source": [
    "# 유저 별로 접한 채널을 모두 list로 변환\n",
    "df_paths = (\n",
    "    df.groupby('cookie')['channel']\n",
    "      .aggregate(\n",
    "          lambda x: x.unique().tolist()\n",
    "      )\n",
    "      .reset_index()  \n",
    ")"
   ]
  },
  {
   "cell_type": "code",
   "execution_count": 32,
   "id": "d9817c68",
   "metadata": {},
   "outputs": [
    {
     "data": {
      "text/html": [
       "<div>\n",
       "<style scoped>\n",
       "    .dataframe tbody tr th:only-of-type {\n",
       "        vertical-align: middle;\n",
       "    }\n",
       "\n",
       "    .dataframe tbody tr th {\n",
       "        vertical-align: top;\n",
       "    }\n",
       "\n",
       "    .dataframe thead th {\n",
       "        text-align: right;\n",
       "    }\n",
       "</style>\n",
       "<table border=\"1\" class=\"dataframe\">\n",
       "  <thead>\n",
       "    <tr style=\"text-align: right;\">\n",
       "      <th></th>\n",
       "      <th>cookie</th>\n",
       "      <th>channel</th>\n",
       "    </tr>\n",
       "  </thead>\n",
       "  <tbody>\n",
       "    <tr>\n",
       "      <th>0</th>\n",
       "      <td>00000FkCnDfDDf0iC97iC703B</td>\n",
       "      <td>[Instagram, Online Display]</td>\n",
       "    </tr>\n",
       "    <tr>\n",
       "      <th>1</th>\n",
       "      <td>0000nACkD9nFkBBDECD3ki00E</td>\n",
       "      <td>[Paid Search]</td>\n",
       "    </tr>\n",
       "    <tr>\n",
       "      <th>2</th>\n",
       "      <td>0003EfE37E93D0BC03iBhBBhF</td>\n",
       "      <td>[Paid Search]</td>\n",
       "    </tr>\n",
       "    <tr>\n",
       "      <th>3</th>\n",
       "      <td>00073CFE3FoFCn70fBhB3kfon</td>\n",
       "      <td>[Instagram]</td>\n",
       "    </tr>\n",
       "    <tr>\n",
       "      <th>4</th>\n",
       "      <td>00079hhBkDF3k3kDkiFi9EFAD</td>\n",
       "      <td>[Paid Search]</td>\n",
       "    </tr>\n",
       "    <tr>\n",
       "      <th>5</th>\n",
       "      <td>0007iiAiFh3ifoo9Ehn3ABB0F</td>\n",
       "      <td>[Instagram, Facebook]</td>\n",
       "    </tr>\n",
       "    <tr>\n",
       "      <th>6</th>\n",
       "      <td>0007o0nfoh9o79DDfD7DAiEnE</td>\n",
       "      <td>[Facebook]</td>\n",
       "    </tr>\n",
       "    <tr>\n",
       "      <th>7</th>\n",
       "      <td>0007oEBhnoF97AoEE3BCkFnhB</td>\n",
       "      <td>[Paid Search]</td>\n",
       "    </tr>\n",
       "    <tr>\n",
       "      <th>8</th>\n",
       "      <td>00090n9EBBEkA000C7Cik999D</td>\n",
       "      <td>[Facebook]</td>\n",
       "    </tr>\n",
       "    <tr>\n",
       "      <th>9</th>\n",
       "      <td>000A9AfDohfiBAFB0FDf3kDEE</td>\n",
       "      <td>[Online Video]</td>\n",
       "    </tr>\n",
       "  </tbody>\n",
       "</table>\n",
       "</div>"
      ],
      "text/plain": [
       "                      cookie                      channel\n",
       "0  00000FkCnDfDDf0iC97iC703B  [Instagram, Online Display]\n",
       "1  0000nACkD9nFkBBDECD3ki00E                [Paid Search]\n",
       "2  0003EfE37E93D0BC03iBhBBhF                [Paid Search]\n",
       "3  00073CFE3FoFCn70fBhB3kfon                  [Instagram]\n",
       "4  00079hhBkDF3k3kDkiFi9EFAD                [Paid Search]\n",
       "5  0007iiAiFh3ifoo9Ehn3ABB0F        [Instagram, Facebook]\n",
       "6  0007o0nfoh9o79DDfD7DAiEnE                   [Facebook]\n",
       "7  0007oEBhnoF97AoEE3BCkFnhB                [Paid Search]\n",
       "8  00090n9EBBEkA000C7Cik999D                   [Facebook]\n",
       "9  000A9AfDohfiBAFB0FDf3kDEE               [Online Video]"
      ]
     },
     "execution_count": 32,
     "metadata": {},
     "output_type": "execute_result"
    }
   ],
   "source": [
    "df_paths.head(10)"
   ]
  },
  {
   "cell_type": "code",
   "execution_count": 33,
   "id": "d3f14746",
   "metadata": {},
   "outputs": [
    {
     "data": {
      "text/html": [
       "<div>\n",
       "<style scoped>\n",
       "    .dataframe tbody tr th:only-of-type {\n",
       "        vertical-align: middle;\n",
       "    }\n",
       "\n",
       "    .dataframe tbody tr th {\n",
       "        vertical-align: top;\n",
       "    }\n",
       "\n",
       "    .dataframe thead th {\n",
       "        text-align: right;\n",
       "    }\n",
       "</style>\n",
       "<table border=\"1\" class=\"dataframe\">\n",
       "  <thead>\n",
       "    <tr style=\"text-align: right;\">\n",
       "      <th></th>\n",
       "      <th>cookie</th>\n",
       "      <th>conversion</th>\n",
       "    </tr>\n",
       "  </thead>\n",
       "  <tbody>\n",
       "    <tr>\n",
       "      <th>3</th>\n",
       "      <td>00000FkCnDfDDf0iC97iC703B</td>\n",
       "      <td>0</td>\n",
       "    </tr>\n",
       "    <tr>\n",
       "      <th>9</th>\n",
       "      <td>0000nACkD9nFkBBDECD3ki00E</td>\n",
       "      <td>0</td>\n",
       "    </tr>\n",
       "    <tr>\n",
       "      <th>14</th>\n",
       "      <td>0003EfE37E93D0BC03iBhBBhF</td>\n",
       "      <td>0</td>\n",
       "    </tr>\n",
       "    <tr>\n",
       "      <th>15</th>\n",
       "      <td>00073CFE3FoFCn70fBhB3kfon</td>\n",
       "      <td>0</td>\n",
       "    </tr>\n",
       "    <tr>\n",
       "      <th>16</th>\n",
       "      <td>00079hhBkDF3k3kDkiFi9EFAD</td>\n",
       "      <td>0</td>\n",
       "    </tr>\n",
       "    <tr>\n",
       "      <th>20</th>\n",
       "      <td>0007iiAiFh3ifoo9Ehn3ABB0F</td>\n",
       "      <td>0</td>\n",
       "    </tr>\n",
       "    <tr>\n",
       "      <th>21</th>\n",
       "      <td>0007o0nfoh9o79DDfD7DAiEnE</td>\n",
       "      <td>0</td>\n",
       "    </tr>\n",
       "    <tr>\n",
       "      <th>22</th>\n",
       "      <td>0007oEBhnoF97AoEE3BCkFnhB</td>\n",
       "      <td>1</td>\n",
       "    </tr>\n",
       "    <tr>\n",
       "      <th>23</th>\n",
       "      <td>00090n9EBBEkA000C7Cik999D</td>\n",
       "      <td>1</td>\n",
       "    </tr>\n",
       "    <tr>\n",
       "      <th>28</th>\n",
       "      <td>000A9AfDohfiBAFB0FDf3kDEE</td>\n",
       "      <td>0</td>\n",
       "    </tr>\n",
       "  </tbody>\n",
       "</table>\n",
       "</div>"
      ],
      "text/plain": [
       "                       cookie  conversion\n",
       "3   00000FkCnDfDDf0iC97iC703B           0\n",
       "9   0000nACkD9nFkBBDECD3ki00E           0\n",
       "14  0003EfE37E93D0BC03iBhBBhF           0\n",
       "15  00073CFE3FoFCn70fBhB3kfon           0\n",
       "16  00079hhBkDF3k3kDkiFi9EFAD           0\n",
       "20  0007iiAiFh3ifoo9Ehn3ABB0F           0\n",
       "21  0007o0nfoh9o79DDfD7DAiEnE           0\n",
       "22  0007oEBhnoF97AoEE3BCkFnhB           1\n",
       "23  00090n9EBBEkA000C7Cik999D           1\n",
       "28  000A9AfDohfiBAFB0FDf3kDEE           0"
      ]
     },
     "execution_count": 33,
     "metadata": {},
     "output_type": "execute_result"
    }
   ],
   "source": [
    "# 유저 별 전환 여부 : 각 유저 별 마지막 row 만 남기고 삭제\n",
    "df_last_interaction = df.drop_duplicates('cookie', keep='last')[['cookie', 'conversion']]\n",
    "df_last_interaction.head(10)"
   ]
  },
  {
   "cell_type": "code",
   "execution_count": 34,
   "id": "dde9f594",
   "metadata": {},
   "outputs": [],
   "source": [
    "# 기 만든 path 데이터에 conversion 전환 여부를 합침\n",
    "df_paths = pd.merge(df_paths, df_last_interaction, how='left', on='cookie')"
   ]
  },
  {
   "cell_type": "code",
   "execution_count": 35,
   "id": "0468cfc3",
   "metadata": {},
   "outputs": [
    {
     "data": {
      "text/html": [
       "<div>\n",
       "<style scoped>\n",
       "    .dataframe tbody tr th:only-of-type {\n",
       "        vertical-align: middle;\n",
       "    }\n",
       "\n",
       "    .dataframe tbody tr th {\n",
       "        vertical-align: top;\n",
       "    }\n",
       "\n",
       "    .dataframe thead th {\n",
       "        text-align: right;\n",
       "    }\n",
       "</style>\n",
       "<table border=\"1\" class=\"dataframe\">\n",
       "  <thead>\n",
       "    <tr style=\"text-align: right;\">\n",
       "      <th></th>\n",
       "      <th>cookie</th>\n",
       "      <th>channel</th>\n",
       "      <th>conversion</th>\n",
       "    </tr>\n",
       "  </thead>\n",
       "  <tbody>\n",
       "    <tr>\n",
       "      <th>0</th>\n",
       "      <td>00000FkCnDfDDf0iC97iC703B</td>\n",
       "      <td>[Instagram, Online Display]</td>\n",
       "      <td>0</td>\n",
       "    </tr>\n",
       "    <tr>\n",
       "      <th>1</th>\n",
       "      <td>0000nACkD9nFkBBDECD3ki00E</td>\n",
       "      <td>[Paid Search]</td>\n",
       "      <td>0</td>\n",
       "    </tr>\n",
       "    <tr>\n",
       "      <th>2</th>\n",
       "      <td>0003EfE37E93D0BC03iBhBBhF</td>\n",
       "      <td>[Paid Search]</td>\n",
       "      <td>0</td>\n",
       "    </tr>\n",
       "    <tr>\n",
       "      <th>3</th>\n",
       "      <td>00073CFE3FoFCn70fBhB3kfon</td>\n",
       "      <td>[Instagram]</td>\n",
       "      <td>0</td>\n",
       "    </tr>\n",
       "    <tr>\n",
       "      <th>4</th>\n",
       "      <td>00079hhBkDF3k3kDkiFi9EFAD</td>\n",
       "      <td>[Paid Search]</td>\n",
       "      <td>0</td>\n",
       "    </tr>\n",
       "  </tbody>\n",
       "</table>\n",
       "</div>"
      ],
      "text/plain": [
       "                      cookie                      channel  conversion\n",
       "0  00000FkCnDfDDf0iC97iC703B  [Instagram, Online Display]           0\n",
       "1  0000nACkD9nFkBBDECD3ki00E                [Paid Search]           0\n",
       "2  0003EfE37E93D0BC03iBhBBhF                [Paid Search]           0\n",
       "3  00073CFE3FoFCn70fBhB3kfon                  [Instagram]           0\n",
       "4  00079hhBkDF3k3kDkiFi9EFAD                [Paid Search]           0"
      ]
     },
     "execution_count": 35,
     "metadata": {},
     "output_type": "execute_result"
    }
   ],
   "source": [
    "df_paths.head()"
   ]
  },
  {
   "cell_type": "markdown",
   "id": "19bed555",
   "metadata": {},
   "source": [
    "Markov Chain 의 State 종류\n",
    "* Start: 첫 시작 \n",
    "* Instagram: 인스타그램 광고\n",
    "* Paid Search: 유료 검색 광고\n",
    "* Facebook: 페이스북 광고\n",
    "* Online Video: 비디오형 광고\n",
    "* Online Display: 배너 노출 광고\n",
    "* Conversion: 전환 성공 (구매 완료)\n",
    "* Null: 전환 실패 (구매 없이 나감)\n",
    " "
   ]
  },
  {
   "cell_type": "code",
   "execution_count": 36,
   "id": "9f379a34",
   "metadata": {},
   "outputs": [],
   "source": [
    "# 시작 state 추가\n",
    "# 최종 state 추가\n",
    "# 전환이 안되었다면 Null, 전환되었다면 Conversion State 를 캠페인 Path 뒤에 추가 \n",
    "df_paths['paths'] = (\n",
    "    df_paths\n",
    "      .apply( \n",
    "          lambda x: ['Start'] + x.channel + ['Null'] \n",
    "            if x.conversion == 0 \n",
    "            else ['Start'] + x.channel + ['Conversion'], \n",
    "          axis=1\n",
    "      )\n",
    ")"
   ]
  },
  {
   "cell_type": "code",
   "execution_count": 37,
   "id": "83a68472",
   "metadata": {},
   "outputs": [
    {
     "data": {
      "text/html": [
       "<div>\n",
       "<style scoped>\n",
       "    .dataframe tbody tr th:only-of-type {\n",
       "        vertical-align: middle;\n",
       "    }\n",
       "\n",
       "    .dataframe tbody tr th {\n",
       "        vertical-align: top;\n",
       "    }\n",
       "\n",
       "    .dataframe thead th {\n",
       "        text-align: right;\n",
       "    }\n",
       "</style>\n",
       "<table border=\"1\" class=\"dataframe\">\n",
       "  <thead>\n",
       "    <tr style=\"text-align: right;\">\n",
       "      <th></th>\n",
       "      <th>cookie</th>\n",
       "      <th>channel</th>\n",
       "      <th>conversion</th>\n",
       "      <th>paths</th>\n",
       "    </tr>\n",
       "  </thead>\n",
       "  <tbody>\n",
       "    <tr>\n",
       "      <th>0</th>\n",
       "      <td>00000FkCnDfDDf0iC97iC703B</td>\n",
       "      <td>[Instagram, Online Display]</td>\n",
       "      <td>0</td>\n",
       "      <td>[Start, Instagram, Online Display, Null]</td>\n",
       "    </tr>\n",
       "    <tr>\n",
       "      <th>1</th>\n",
       "      <td>0000nACkD9nFkBBDECD3ki00E</td>\n",
       "      <td>[Paid Search]</td>\n",
       "      <td>0</td>\n",
       "      <td>[Start, Paid Search, Null]</td>\n",
       "    </tr>\n",
       "    <tr>\n",
       "      <th>2</th>\n",
       "      <td>0003EfE37E93D0BC03iBhBBhF</td>\n",
       "      <td>[Paid Search]</td>\n",
       "      <td>0</td>\n",
       "      <td>[Start, Paid Search, Null]</td>\n",
       "    </tr>\n",
       "    <tr>\n",
       "      <th>3</th>\n",
       "      <td>00073CFE3FoFCn70fBhB3kfon</td>\n",
       "      <td>[Instagram]</td>\n",
       "      <td>0</td>\n",
       "      <td>[Start, Instagram, Null]</td>\n",
       "    </tr>\n",
       "    <tr>\n",
       "      <th>4</th>\n",
       "      <td>00079hhBkDF3k3kDkiFi9EFAD</td>\n",
       "      <td>[Paid Search]</td>\n",
       "      <td>0</td>\n",
       "      <td>[Start, Paid Search, Null]</td>\n",
       "    </tr>\n",
       "    <tr>\n",
       "      <th>5</th>\n",
       "      <td>0007iiAiFh3ifoo9Ehn3ABB0F</td>\n",
       "      <td>[Instagram, Facebook]</td>\n",
       "      <td>0</td>\n",
       "      <td>[Start, Instagram, Facebook, Null]</td>\n",
       "    </tr>\n",
       "    <tr>\n",
       "      <th>6</th>\n",
       "      <td>0007o0nfoh9o79DDfD7DAiEnE</td>\n",
       "      <td>[Facebook]</td>\n",
       "      <td>0</td>\n",
       "      <td>[Start, Facebook, Null]</td>\n",
       "    </tr>\n",
       "    <tr>\n",
       "      <th>7</th>\n",
       "      <td>0007oEBhnoF97AoEE3BCkFnhB</td>\n",
       "      <td>[Paid Search]</td>\n",
       "      <td>1</td>\n",
       "      <td>[Start, Paid Search, Conversion]</td>\n",
       "    </tr>\n",
       "    <tr>\n",
       "      <th>8</th>\n",
       "      <td>00090n9EBBEkA000C7Cik999D</td>\n",
       "      <td>[Facebook]</td>\n",
       "      <td>1</td>\n",
       "      <td>[Start, Facebook, Conversion]</td>\n",
       "    </tr>\n",
       "    <tr>\n",
       "      <th>9</th>\n",
       "      <td>000A9AfDohfiBAFB0FDf3kDEE</td>\n",
       "      <td>[Online Video]</td>\n",
       "      <td>0</td>\n",
       "      <td>[Start, Online Video, Null]</td>\n",
       "    </tr>\n",
       "  </tbody>\n",
       "</table>\n",
       "</div>"
      ],
      "text/plain": [
       "                      cookie                      channel  conversion  \\\n",
       "0  00000FkCnDfDDf0iC97iC703B  [Instagram, Online Display]           0   \n",
       "1  0000nACkD9nFkBBDECD3ki00E                [Paid Search]           0   \n",
       "2  0003EfE37E93D0BC03iBhBBhF                [Paid Search]           0   \n",
       "3  00073CFE3FoFCn70fBhB3kfon                  [Instagram]           0   \n",
       "4  00079hhBkDF3k3kDkiFi9EFAD                [Paid Search]           0   \n",
       "5  0007iiAiFh3ifoo9Ehn3ABB0F        [Instagram, Facebook]           0   \n",
       "6  0007o0nfoh9o79DDfD7DAiEnE                   [Facebook]           0   \n",
       "7  0007oEBhnoF97AoEE3BCkFnhB                [Paid Search]           1   \n",
       "8  00090n9EBBEkA000C7Cik999D                   [Facebook]           1   \n",
       "9  000A9AfDohfiBAFB0FDf3kDEE               [Online Video]           0   \n",
       "\n",
       "                                      paths  \n",
       "0  [Start, Instagram, Online Display, Null]  \n",
       "1                [Start, Paid Search, Null]  \n",
       "2                [Start, Paid Search, Null]  \n",
       "3                  [Start, Instagram, Null]  \n",
       "4                [Start, Paid Search, Null]  \n",
       "5        [Start, Instagram, Facebook, Null]  \n",
       "6                   [Start, Facebook, Null]  \n",
       "7          [Start, Paid Search, Conversion]  \n",
       "8             [Start, Facebook, Conversion]  \n",
       "9               [Start, Online Video, Null]  "
      ]
     },
     "execution_count": 37,
     "metadata": {},
     "output_type": "execute_result"
    }
   ],
   "source": [
    "df_paths.head(10)"
   ]
  },
  {
   "cell_type": "code",
   "execution_count": 38,
   "id": "dc002203",
   "metadata": {},
   "outputs": [
    {
     "name": "stdout",
     "output_type": "stream",
     "text": [
      "240108\n",
      "17639\n"
     ]
    }
   ],
   "source": [
    "# 총 쿠키수와 그 중 전환된 쿠키수 계산\n",
    "cookie_count = len(df_paths)\n",
    "conversion_count = len(df_paths.loc[df_paths.conversion == 1, :])\n",
    "print(cookie_count)\n",
    "print(conversion_count)"
   ]
  },
  {
   "cell_type": "code",
   "execution_count": 39,
   "id": "d531d577",
   "metadata": {},
   "outputs": [
    {
     "name": "stdout",
     "output_type": "stream",
     "text": [
      "0.07346277508454528\n"
     ]
    }
   ],
   "source": [
    "# 전체 전환율 약 7.3%\n",
    "base_conversion_rate = conversion_count / cookie_count\n",
    "print(base_conversion_rate)"
   ]
  },
  {
   "cell_type": "code",
   "execution_count": 40,
   "id": "12a33a63",
   "metadata": {},
   "outputs": [],
   "source": [
    "# transition 확률을 구하기 위한 데이터\n",
    "list_of_paths = df_paths['paths']"
   ]
  },
  {
   "cell_type": "code",
   "execution_count": 41,
   "id": "90bc635e",
   "metadata": {},
   "outputs": [
    {
     "data": {
      "text/plain": [
       "{'Conversion',\n",
       " 'Facebook',\n",
       " 'Instagram',\n",
       " 'Null',\n",
       " 'Online Display',\n",
       " 'Online Video',\n",
       " 'Paid Search',\n",
       " 'Start'}"
      ]
     },
     "execution_count": 41,
     "metadata": {},
     "output_type": "execute_result"
    }
   ],
   "source": [
    "# Unique 한 사건\n",
    "list_of_unique_channels = set(x for element in list_of_paths for x in element)\n",
    "list_of_unique_channels"
   ]
  },
  {
   "cell_type": "code",
   "execution_count": 42,
   "id": "6c0663e6",
   "metadata": {},
   "outputs": [
    {
     "data": {
      "text/plain": [
       "0    [Start, Instagram, Online Display, Null]\n",
       "1                  [Start, Paid Search, Null]\n",
       "2                  [Start, Paid Search, Null]\n",
       "3                    [Start, Instagram, Null]\n",
       "4                  [Start, Paid Search, Null]\n",
       "Name: paths, dtype: object"
      ]
     },
     "execution_count": 42,
     "metadata": {},
     "output_type": "execute_result"
    }
   ],
   "source": [
    "list_of_paths[:5]"
   ]
  },
  {
   "cell_type": "markdown",
   "id": "0c0e1a31",
   "metadata": {},
   "source": [
    "Markov Chain 은 현재와 그 다음 상태 사이의 전이확률만 필요\n",
    "- 더 과거의 상태는 알 필요 없음"
   ]
  },
  {
   "cell_type": "code",
   "execution_count": 43,
   "id": "a1dbe731",
   "metadata": {},
   "outputs": [],
   "source": [
    "# 전이 가능성이 있는 모든 상태를 count 하기 위해서 0으로 초기화\n",
    "transition_states = {x + '>' + y: 0 for x in list_of_unique_channels for y in list_of_unique_channels}"
   ]
  },
  {
   "cell_type": "code",
   "execution_count": 44,
   "id": "336be881",
   "metadata": {},
   "outputs": [
    {
     "data": {
      "text/plain": [
       "{'Instagram>Instagram': 0,\n",
       " 'Instagram>Online Display': 0,\n",
       " 'Instagram>Facebook': 0,\n",
       " 'Instagram>Start': 0,\n",
       " 'Instagram>Paid Search': 0,\n",
       " 'Instagram>Conversion': 0,\n",
       " 'Instagram>Online Video': 0,\n",
       " 'Instagram>Null': 0,\n",
       " 'Online Display>Instagram': 0,\n",
       " 'Online Display>Online Display': 0,\n",
       " 'Online Display>Facebook': 0,\n",
       " 'Online Display>Start': 0,\n",
       " 'Online Display>Paid Search': 0,\n",
       " 'Online Display>Conversion': 0,\n",
       " 'Online Display>Online Video': 0,\n",
       " 'Online Display>Null': 0,\n",
       " 'Facebook>Instagram': 0,\n",
       " 'Facebook>Online Display': 0,\n",
       " 'Facebook>Facebook': 0,\n",
       " 'Facebook>Start': 0,\n",
       " 'Facebook>Paid Search': 0,\n",
       " 'Facebook>Conversion': 0,\n",
       " 'Facebook>Online Video': 0,\n",
       " 'Facebook>Null': 0,\n",
       " 'Start>Instagram': 0,\n",
       " 'Start>Online Display': 0,\n",
       " 'Start>Facebook': 0,\n",
       " 'Start>Start': 0,\n",
       " 'Start>Paid Search': 0,\n",
       " 'Start>Conversion': 0,\n",
       " 'Start>Online Video': 0,\n",
       " 'Start>Null': 0,\n",
       " 'Paid Search>Instagram': 0,\n",
       " 'Paid Search>Online Display': 0,\n",
       " 'Paid Search>Facebook': 0,\n",
       " 'Paid Search>Start': 0,\n",
       " 'Paid Search>Paid Search': 0,\n",
       " 'Paid Search>Conversion': 0,\n",
       " 'Paid Search>Online Video': 0,\n",
       " 'Paid Search>Null': 0,\n",
       " 'Conversion>Instagram': 0,\n",
       " 'Conversion>Online Display': 0,\n",
       " 'Conversion>Facebook': 0,\n",
       " 'Conversion>Start': 0,\n",
       " 'Conversion>Paid Search': 0,\n",
       " 'Conversion>Conversion': 0,\n",
       " 'Conversion>Online Video': 0,\n",
       " 'Conversion>Null': 0,\n",
       " 'Online Video>Instagram': 0,\n",
       " 'Online Video>Online Display': 0,\n",
       " 'Online Video>Facebook': 0,\n",
       " 'Online Video>Start': 0,\n",
       " 'Online Video>Paid Search': 0,\n",
       " 'Online Video>Conversion': 0,\n",
       " 'Online Video>Online Video': 0,\n",
       " 'Online Video>Null': 0,\n",
       " 'Null>Instagram': 0,\n",
       " 'Null>Online Display': 0,\n",
       " 'Null>Facebook': 0,\n",
       " 'Null>Start': 0,\n",
       " 'Null>Paid Search': 0,\n",
       " 'Null>Conversion': 0,\n",
       " 'Null>Online Video': 0,\n",
       " 'Null>Null': 0}"
      ]
     },
     "execution_count": 44,
     "metadata": {},
     "output_type": "execute_result"
    }
   ],
   "source": [
    "transition_states"
   ]
  },
  {
   "cell_type": "code",
   "execution_count": 45,
   "id": "c5817b68",
   "metadata": {},
   "outputs": [],
   "source": [
    "# 각 상태에서 다음 상태로 간 것이 몇 번인지\n",
    "for possible_state in list_of_unique_channels: \n",
    "    if possible_state not in ['Conversion', 'Null']: # 전환/ 전환 안됨 상태를 제외\n",
    "        for user_path in list_of_paths:\n",
    "            if possible_state in user_path:\n",
    "                indices = [i for i, s in enumerate(user_path) if possible_state in s] \n",
    "                for col in indices:\n",
    "                    key = user_path[col] + '>' + user_path[col + 1]\n",
    "                    transition_states[key] += 1 "
   ]
  },
  {
   "cell_type": "code",
   "execution_count": 46,
   "id": "fb877c87",
   "metadata": {},
   "outputs": [
    {
     "data": {
      "text/plain": [
       "{'Instagram>Instagram': 0,\n",
       " 'Instagram>Online Display': 1164,\n",
       " 'Instagram>Facebook': 10822,\n",
       " 'Instagram>Start': 0,\n",
       " 'Instagram>Paid Search': 2266,\n",
       " 'Instagram>Conversion': 2868,\n",
       " 'Instagram>Online Video': 1193,\n",
       " 'Instagram>Null': 31153,\n",
       " 'Online Display>Instagram': 1251,\n",
       " 'Online Display>Online Display': 0,\n",
       " 'Online Display>Facebook': 2300,\n",
       " 'Online Display>Start': 0,\n",
       " 'Online Display>Paid Search': 3936,\n",
       " 'Online Display>Conversion': 2144,\n",
       " 'Online Display>Online Video': 737,\n",
       " 'Online Display>Null': 32236,\n",
       " 'Facebook>Instagram': 15252,\n",
       " 'Facebook>Online Display': 2146,\n",
       " 'Facebook>Facebook': 0,\n",
       " 'Facebook>Start': 0,\n",
       " 'Facebook>Paid Search': 4464,\n",
       " 'Facebook>Conversion': 4690,\n",
       " 'Facebook>Online Video': 2254,\n",
       " 'Facebook>Null': 59319,\n",
       " 'Start>Instagram': 28618,\n",
       " 'Start>Online Display': 34250,\n",
       " 'Start>Facebook': 66848,\n",
       " 'Start>Start': 0,\n",
       " 'Start>Paid Search': 76210,\n",
       " 'Start>Conversion': 0,\n",
       " 'Start>Online Video': 34182,\n",
       " 'Start>Null': 0,\n",
       " 'Paid Search>Instagram': 3038,\n",
       " 'Paid Search>Online Display': 4269,\n",
       " 'Paid Search>Facebook': 5725,\n",
       " 'Paid Search>Start': 0,\n",
       " 'Paid Search>Paid Search': 0,\n",
       " 'Paid Search>Conversion': 4736,\n",
       " 'Paid Search>Online Video': 2596,\n",
       " 'Paid Search>Null': 68476,\n",
       " 'Conversion>Instagram': 0,\n",
       " 'Conversion>Online Display': 0,\n",
       " 'Conversion>Facebook': 0,\n",
       " 'Conversion>Start': 0,\n",
       " 'Conversion>Paid Search': 0,\n",
       " 'Conversion>Conversion': 0,\n",
       " 'Conversion>Online Video': 0,\n",
       " 'Conversion>Null': 0,\n",
       " 'Online Video>Instagram': 1307,\n",
       " 'Online Video>Online Display': 775,\n",
       " 'Online Video>Facebook': 2430,\n",
       " 'Online Video>Start': 0,\n",
       " 'Online Video>Paid Search': 1964,\n",
       " 'Online Video>Conversion': 3201,\n",
       " 'Online Video>Online Video': 0,\n",
       " 'Online Video>Null': 31285,\n",
       " 'Null>Instagram': 0,\n",
       " 'Null>Online Display': 0,\n",
       " 'Null>Facebook': 0,\n",
       " 'Null>Start': 0,\n",
       " 'Null>Paid Search': 0,\n",
       " 'Null>Conversion': 0,\n",
       " 'Null>Online Video': 0,\n",
       " 'Null>Null': 0}"
      ]
     },
     "execution_count": 46,
     "metadata": {},
     "output_type": "execute_result"
    }
   ],
   "source": [
    "transition_states"
   ]
  },
  {
   "cell_type": "code",
   "execution_count": 47,
   "id": "f977f9a9",
   "metadata": {},
   "outputs": [],
   "source": [
    "# 함수로 표현\n",
    "def transition_states(list_of_paths):\n",
    "    list_of_unique_channels = set(x for element in list_of_paths for x in element)\n",
    "    transition_states = {x + '>' + y: 0 for x in list_of_unique_channels for y in list_of_unique_channels}\n",
    "    for possible_state in list_of_unique_channels:\n",
    "        if possible_state not in ['Conversion', 'Null']:\n",
    "            for user_path in list_of_paths:\n",
    "                if possible_state in user_path:\n",
    "                    indices = [i for i, s in enumerate(user_path) if possible_state in s]\n",
    "                    for col in indices:\n",
    "                        transition_states[user_path[col] + '>' + user_path[col + 1]] += 1\n",
    "\n",
    "    return transition_states\n",
    "\n",
    "trans_states = transition_states(list_of_paths)"
   ]
  },
  {
   "cell_type": "code",
   "execution_count": 48,
   "id": "2d645972",
   "metadata": {},
   "outputs": [
    {
     "data": {
      "text/plain": [
       "dict_keys(['Instagram>Instagram', 'Instagram>Online Display', 'Instagram>Facebook', 'Instagram>Start', 'Instagram>Paid Search', 'Instagram>Conversion', 'Instagram>Online Video', 'Instagram>Null', 'Online Display>Instagram', 'Online Display>Online Display', 'Online Display>Facebook', 'Online Display>Start', 'Online Display>Paid Search', 'Online Display>Conversion', 'Online Display>Online Video', 'Online Display>Null', 'Facebook>Instagram', 'Facebook>Online Display', 'Facebook>Facebook', 'Facebook>Start', 'Facebook>Paid Search', 'Facebook>Conversion', 'Facebook>Online Video', 'Facebook>Null', 'Start>Instagram', 'Start>Online Display', 'Start>Facebook', 'Start>Start', 'Start>Paid Search', 'Start>Conversion', 'Start>Online Video', 'Start>Null', 'Paid Search>Instagram', 'Paid Search>Online Display', 'Paid Search>Facebook', 'Paid Search>Start', 'Paid Search>Paid Search', 'Paid Search>Conversion', 'Paid Search>Online Video', 'Paid Search>Null', 'Conversion>Instagram', 'Conversion>Online Display', 'Conversion>Facebook', 'Conversion>Start', 'Conversion>Paid Search', 'Conversion>Conversion', 'Conversion>Online Video', 'Conversion>Null', 'Online Video>Instagram', 'Online Video>Online Display', 'Online Video>Facebook', 'Online Video>Start', 'Online Video>Paid Search', 'Online Video>Conversion', 'Online Video>Online Video', 'Online Video>Null', 'Null>Instagram', 'Null>Online Display', 'Null>Facebook', 'Null>Start', 'Null>Paid Search', 'Null>Conversion', 'Null>Online Video', 'Null>Null'])"
      ]
     },
     "execution_count": 48,
     "metadata": {},
     "output_type": "execute_result"
    }
   ],
   "source": [
    "trans_states.keys()"
   ]
  },
  {
   "cell_type": "markdown",
   "id": "69373042",
   "metadata": {},
   "source": [
    "확률 정의\n",
    "* transition probability 로 정의하려면, 각 채널에서 다음 채널로 가는 수를 다 더해서 나눠줌"
   ]
  },
  {
   "cell_type": "code",
   "execution_count": 49,
   "id": "4fe6d069",
   "metadata": {},
   "outputs": [],
   "source": [
    "trans_prob = defaultdict(dict)"
   ]
  },
  {
   "cell_type": "code",
   "execution_count": 50,
   "id": "acba6869",
   "metadata": {},
   "outputs": [
    {
     "data": {
      "text/plain": [
       "defaultdict(dict, {})"
      ]
     },
     "execution_count": 50,
     "metadata": {},
     "output_type": "execute_result"
    }
   ],
   "source": [
    "trans_prob"
   ]
  },
  {
   "cell_type": "code",
   "execution_count": 51,
   "id": "96ac6322",
   "metadata": {},
   "outputs": [
    {
     "data": {
      "text/plain": [
       "{'Instagram>Instagram': 0,\n",
       " 'Instagram>Online Display': 1164,\n",
       " 'Instagram>Facebook': 10822,\n",
       " 'Instagram>Start': 0,\n",
       " 'Instagram>Paid Search': 2266,\n",
       " 'Instagram>Conversion': 2868,\n",
       " 'Instagram>Online Video': 1193,\n",
       " 'Instagram>Null': 31153,\n",
       " 'Online Display>Instagram': 1251,\n",
       " 'Online Display>Online Display': 0,\n",
       " 'Online Display>Facebook': 2300,\n",
       " 'Online Display>Start': 0,\n",
       " 'Online Display>Paid Search': 3936,\n",
       " 'Online Display>Conversion': 2144,\n",
       " 'Online Display>Online Video': 737,\n",
       " 'Online Display>Null': 32236,\n",
       " 'Facebook>Instagram': 15252,\n",
       " 'Facebook>Online Display': 2146,\n",
       " 'Facebook>Facebook': 0,\n",
       " 'Facebook>Start': 0,\n",
       " 'Facebook>Paid Search': 4464,\n",
       " 'Facebook>Conversion': 4690,\n",
       " 'Facebook>Online Video': 2254,\n",
       " 'Facebook>Null': 59319,\n",
       " 'Start>Instagram': 28618,\n",
       " 'Start>Online Display': 34250,\n",
       " 'Start>Facebook': 66848,\n",
       " 'Start>Start': 0,\n",
       " 'Start>Paid Search': 76210,\n",
       " 'Start>Conversion': 0,\n",
       " 'Start>Online Video': 34182,\n",
       " 'Start>Null': 0,\n",
       " 'Paid Search>Instagram': 3038,\n",
       " 'Paid Search>Online Display': 4269,\n",
       " 'Paid Search>Facebook': 5725,\n",
       " 'Paid Search>Start': 0,\n",
       " 'Paid Search>Paid Search': 0,\n",
       " 'Paid Search>Conversion': 4736,\n",
       " 'Paid Search>Online Video': 2596,\n",
       " 'Paid Search>Null': 68476,\n",
       " 'Conversion>Instagram': 0,\n",
       " 'Conversion>Online Display': 0,\n",
       " 'Conversion>Facebook': 0,\n",
       " 'Conversion>Start': 0,\n",
       " 'Conversion>Paid Search': 0,\n",
       " 'Conversion>Conversion': 0,\n",
       " 'Conversion>Online Video': 0,\n",
       " 'Conversion>Null': 0,\n",
       " 'Online Video>Instagram': 1307,\n",
       " 'Online Video>Online Display': 775,\n",
       " 'Online Video>Facebook': 2430,\n",
       " 'Online Video>Start': 0,\n",
       " 'Online Video>Paid Search': 1964,\n",
       " 'Online Video>Conversion': 3201,\n",
       " 'Online Video>Online Video': 0,\n",
       " 'Online Video>Null': 31285,\n",
       " 'Null>Instagram': 0,\n",
       " 'Null>Online Display': 0,\n",
       " 'Null>Facebook': 0,\n",
       " 'Null>Start': 0,\n",
       " 'Null>Paid Search': 0,\n",
       " 'Null>Conversion': 0,\n",
       " 'Null>Online Video': 0,\n",
       " 'Null>Null': 0}"
      ]
     },
     "execution_count": 51,
     "metadata": {},
     "output_type": "execute_result"
    }
   ],
   "source": [
    "trans_states"
   ]
  },
  {
   "cell_type": "code",
   "execution_count": 52,
   "id": "bc87c8ba",
   "metadata": {},
   "outputs": [],
   "source": [
    "for state in list_of_unique_channels: \n",
    "    if state not in ['Conversion', 'Null']:\n",
    "        next_states_from_state = [s for s in trans_states if state + '>' in s]\n",
    "        counter = 0\n",
    "        for next_state in next_states_from_state:\n",
    "            if trans_states[next_state] > 0:\n",
    "                counter += trans_states[next_state]\n",
    "        for next_state in next_states_from_state:\n",
    "            if trans_states[next_state] > 0:\n",
    "                state_prob = float((trans_states[next_state])) / float(counter)\n",
    "                trans_prob[next_state] = state_prob"
   ]
  },
  {
   "cell_type": "code",
   "execution_count": 53,
   "id": "799e83b7",
   "metadata": {},
   "outputs": [
    {
     "data": {
      "text/plain": [
       "defaultdict(dict,\n",
       "            {'Instagram>Online Display': 0.023531314438199977,\n",
       "             'Instagram>Facebook': 0.2187765333764606,\n",
       "             'Instagram>Paid Search': 0.04580924271216593,\n",
       "             'Instagram>Conversion': 0.057979218048760765,\n",
       "             'Instagram>Online Video': 0.024117575708567502,\n",
       "             'Instagram>Null': 0.6297861157158452,\n",
       "             'Online Display>Instagram': 0.02936344005257722,\n",
       "             'Online Display>Facebook': 0.053985541263731104,\n",
       "             'Online Display>Paid Search': 0.09238569148436766,\n",
       "             'Online Display>Conversion': 0.05032391324758239,\n",
       "             'Online Display>Online Video': 0.017298845178856444,\n",
       "             'Online Display>Null': 0.7566425687728852,\n",
       "             'Facebook>Instagram': 0.1730723404255319,\n",
       "             'Facebook>Online Display': 0.02435177304964539,\n",
       "             'Facebook>Paid Search': 0.05065531914893617,\n",
       "             'Facebook>Conversion': 0.053219858156028366,\n",
       "             'Facebook>Online Video': 0.025577304964539006,\n",
       "             'Facebook>Null': 0.6731234042553191,\n",
       "             'Start>Instagram': 0.11918803205224315,\n",
       "             'Start>Online Display': 0.14264414346877238,\n",
       "             'Start>Facebook': 0.2784080497109634,\n",
       "             'Start>Paid Search': 0.31739883718993117,\n",
       "             'Start>Online Video': 0.14236093757808985,\n",
       "             'Paid Search>Instagram': 0.03419630796938316,\n",
       "             'Paid Search>Online Display': 0.04805267897343539,\n",
       "             'Paid Search>Facebook': 0.06444169293111211,\n",
       "             'Paid Search>Conversion': 0.053309320126069336,\n",
       "             'Paid Search>Online Video': 0.029221071589374155,\n",
       "             'Paid Search>Null': 0.7707789284106259,\n",
       "             'Online Video>Instagram': 0.03190762169815927,\n",
       "             'Online Video>Online Display': 0.018919974610614718,\n",
       "             'Online Video>Facebook': 0.059323275230701626,\n",
       "             'Online Video>Paid Search': 0.04794687759386749,\n",
       "             'Online Video>Conversion': 0.0781455983594551,\n",
       "             'Online Video>Null': 0.7637566525072018})"
      ]
     },
     "execution_count": 53,
     "metadata": {},
     "output_type": "execute_result"
    }
   ],
   "source": [
    "trans_prob"
   ]
  },
  {
   "cell_type": "code",
   "execution_count": 54,
   "id": "5ad4ff69",
   "metadata": {},
   "outputs": [],
   "source": [
    "# 함수로 정의\n",
    "def transition_prob(trans_dict):\n",
    "    list_of_unique_channels = set(x for element in list_of_paths for x in element)\n",
    "    trans_prob = defaultdict(dict)\n",
    "    for state in list_of_unique_channels: \n",
    "        if state not in ['Conversion', 'Null']:\n",
    "            next_states_from_state = [s for s in trans_dict if state + '>' in s]\n",
    "            counter = 0\n",
    "            for next_state in next_states_from_state:\n",
    "                state \n",
    "                if trans_dict[next_state] > 0:\n",
    "                    counter += trans_dict[next_state]\n",
    "            for next_state in next_states_from_state:\n",
    "                if trans_dict[next_state] > 0:\n",
    "                    state_prob = float((trans_dict[next_state])) / float(counter)\n",
    "                    trans_prob[next_state] = state_prob\n",
    "    return trans_prob\n",
    "\n",
    "\n",
    "trans_prob = transition_prob(trans_states)"
   ]
  },
  {
   "cell_type": "code",
   "execution_count": 55,
   "id": "0b7049ad",
   "metadata": {},
   "outputs": [
    {
     "data": {
      "text/plain": [
       "defaultdict(dict,\n",
       "            {'Instagram>Online Display': 0.023531314438199977,\n",
       "             'Instagram>Facebook': 0.2187765333764606,\n",
       "             'Instagram>Paid Search': 0.04580924271216593,\n",
       "             'Instagram>Conversion': 0.057979218048760765,\n",
       "             'Instagram>Online Video': 0.024117575708567502,\n",
       "             'Instagram>Null': 0.6297861157158452,\n",
       "             'Online Display>Instagram': 0.02936344005257722,\n",
       "             'Online Display>Facebook': 0.053985541263731104,\n",
       "             'Online Display>Paid Search': 0.09238569148436766,\n",
       "             'Online Display>Conversion': 0.05032391324758239,\n",
       "             'Online Display>Online Video': 0.017298845178856444,\n",
       "             'Online Display>Null': 0.7566425687728852,\n",
       "             'Facebook>Instagram': 0.1730723404255319,\n",
       "             'Facebook>Online Display': 0.02435177304964539,\n",
       "             'Facebook>Paid Search': 0.05065531914893617,\n",
       "             'Facebook>Conversion': 0.053219858156028366,\n",
       "             'Facebook>Online Video': 0.025577304964539006,\n",
       "             'Facebook>Null': 0.6731234042553191,\n",
       "             'Start>Instagram': 0.11918803205224315,\n",
       "             'Start>Online Display': 0.14264414346877238,\n",
       "             'Start>Facebook': 0.2784080497109634,\n",
       "             'Start>Paid Search': 0.31739883718993117,\n",
       "             'Start>Online Video': 0.14236093757808985,\n",
       "             'Paid Search>Instagram': 0.03419630796938316,\n",
       "             'Paid Search>Online Display': 0.04805267897343539,\n",
       "             'Paid Search>Facebook': 0.06444169293111211,\n",
       "             'Paid Search>Conversion': 0.053309320126069336,\n",
       "             'Paid Search>Online Video': 0.029221071589374155,\n",
       "             'Paid Search>Null': 0.7707789284106259,\n",
       "             'Online Video>Instagram': 0.03190762169815927,\n",
       "             'Online Video>Online Display': 0.018919974610614718,\n",
       "             'Online Video>Facebook': 0.059323275230701626,\n",
       "             'Online Video>Paid Search': 0.04794687759386749,\n",
       "             'Online Video>Conversion': 0.0781455983594551,\n",
       "             'Online Video>Null': 0.7637566525072018})"
      ]
     },
     "execution_count": 55,
     "metadata": {},
     "output_type": "execute_result"
    }
   ],
   "source": [
    "trans_prob"
   ]
  },
  {
   "cell_type": "markdown",
   "id": "3969fd33",
   "metadata": {},
   "source": [
    "## 전이확률행렬(Transition Probability Matrix)로 만들기## "
   ]
  },
  {
   "cell_type": "code",
   "execution_count": 56,
   "id": "b906eaa2",
   "metadata": {},
   "outputs": [],
   "source": [
    "trans_matrix = pd.DataFrame()"
   ]
  },
  {
   "cell_type": "code",
   "execution_count": 57,
   "id": "7a6df8db",
   "metadata": {},
   "outputs": [
    {
     "data": {
      "text/html": [
       "<div>\n",
       "<style scoped>\n",
       "    .dataframe tbody tr th:only-of-type {\n",
       "        vertical-align: middle;\n",
       "    }\n",
       "\n",
       "    .dataframe tbody tr th {\n",
       "        vertical-align: top;\n",
       "    }\n",
       "\n",
       "    .dataframe thead th {\n",
       "        text-align: right;\n",
       "    }\n",
       "</style>\n",
       "<table border=\"1\" class=\"dataframe\">\n",
       "  <thead>\n",
       "    <tr style=\"text-align: right;\">\n",
       "      <th></th>\n",
       "      <th>Instagram</th>\n",
       "    </tr>\n",
       "  </thead>\n",
       "  <tbody>\n",
       "  </tbody>\n",
       "</table>\n",
       "</div>"
      ],
      "text/plain": [
       "Empty DataFrame\n",
       "Columns: [Instagram]\n",
       "Index: []"
      ]
     },
     "execution_count": 57,
     "metadata": {},
     "output_type": "execute_result"
    }
   ],
   "source": [
    "channel = \"Instagram\"\n",
    "trans_matrix[channel] = 0.00\n",
    "trans_matrix"
   ]
  },
  {
   "cell_type": "code",
   "execution_count": 58,
   "id": "3b5d8129",
   "metadata": {},
   "outputs": [
    {
     "data": {
      "text/html": [
       "<div>\n",
       "<style scoped>\n",
       "    .dataframe tbody tr th:only-of-type {\n",
       "        vertical-align: middle;\n",
       "    }\n",
       "\n",
       "    .dataframe tbody tr th {\n",
       "        vertical-align: top;\n",
       "    }\n",
       "\n",
       "    .dataframe thead th {\n",
       "        text-align: right;\n",
       "    }\n",
       "</style>\n",
       "<table border=\"1\" class=\"dataframe\">\n",
       "  <thead>\n",
       "    <tr style=\"text-align: right;\">\n",
       "      <th></th>\n",
       "      <th>Instagram</th>\n",
       "    </tr>\n",
       "  </thead>\n",
       "  <tbody>\n",
       "    <tr>\n",
       "      <th>Instagram</th>\n",
       "      <td>0.0</td>\n",
       "    </tr>\n",
       "  </tbody>\n",
       "</table>\n",
       "</div>"
      ],
      "text/plain": [
       "           Instagram\n",
       "Instagram        0.0"
      ]
     },
     "execution_count": 58,
     "metadata": {},
     "output_type": "execute_result"
    }
   ],
   "source": [
    "trans_matrix.loc[\"Instagram\"] = 0.00\n",
    "trans_matrix"
   ]
  },
  {
   "cell_type": "code",
   "execution_count": 59,
   "id": "77315c85",
   "metadata": {},
   "outputs": [],
   "source": [
    "# Dataframe 의 index와 column에 채널을 추가\n",
    "# Conversion과 Null 인 경우 그 다음 State 로 갈 수 없기 때문에, 각각 1을 부여\n",
    "for channel in list_of_unique_channels:\n",
    "    trans_matrix[channel] = 0.00\n",
    "    trans_matrix.loc[channel] = 0.00\n",
    "\n",
    "    # 자기 자신으로 가는 확률을 부여\n",
    "    trans_matrix.loc[channel][channel] = 1.0 if channel in ['Conversion', 'Null'] else 0.0\n"
   ]
  },
  {
   "cell_type": "code",
   "execution_count": 60,
   "id": "5fc5e405",
   "metadata": {},
   "outputs": [
    {
     "data": {
      "text/html": [
       "<div>\n",
       "<style scoped>\n",
       "    .dataframe tbody tr th:only-of-type {\n",
       "        vertical-align: middle;\n",
       "    }\n",
       "\n",
       "    .dataframe tbody tr th {\n",
       "        vertical-align: top;\n",
       "    }\n",
       "\n",
       "    .dataframe thead th {\n",
       "        text-align: right;\n",
       "    }\n",
       "</style>\n",
       "<table border=\"1\" class=\"dataframe\">\n",
       "  <thead>\n",
       "    <tr style=\"text-align: right;\">\n",
       "      <th></th>\n",
       "      <th>Instagram</th>\n",
       "      <th>Online Display</th>\n",
       "      <th>Facebook</th>\n",
       "      <th>Start</th>\n",
       "      <th>Paid Search</th>\n",
       "      <th>Conversion</th>\n",
       "      <th>Online Video</th>\n",
       "      <th>Null</th>\n",
       "    </tr>\n",
       "  </thead>\n",
       "  <tbody>\n",
       "    <tr>\n",
       "      <th>Instagram</th>\n",
       "      <td>0.0</td>\n",
       "      <td>0.0</td>\n",
       "      <td>0.0</td>\n",
       "      <td>0.0</td>\n",
       "      <td>0.0</td>\n",
       "      <td>0.0</td>\n",
       "      <td>0.0</td>\n",
       "      <td>0.0</td>\n",
       "    </tr>\n",
       "    <tr>\n",
       "      <th>Online Display</th>\n",
       "      <td>0.0</td>\n",
       "      <td>0.0</td>\n",
       "      <td>0.0</td>\n",
       "      <td>0.0</td>\n",
       "      <td>0.0</td>\n",
       "      <td>0.0</td>\n",
       "      <td>0.0</td>\n",
       "      <td>0.0</td>\n",
       "    </tr>\n",
       "    <tr>\n",
       "      <th>Facebook</th>\n",
       "      <td>0.0</td>\n",
       "      <td>0.0</td>\n",
       "      <td>0.0</td>\n",
       "      <td>0.0</td>\n",
       "      <td>0.0</td>\n",
       "      <td>0.0</td>\n",
       "      <td>0.0</td>\n",
       "      <td>0.0</td>\n",
       "    </tr>\n",
       "    <tr>\n",
       "      <th>Start</th>\n",
       "      <td>0.0</td>\n",
       "      <td>0.0</td>\n",
       "      <td>0.0</td>\n",
       "      <td>0.0</td>\n",
       "      <td>0.0</td>\n",
       "      <td>0.0</td>\n",
       "      <td>0.0</td>\n",
       "      <td>0.0</td>\n",
       "    </tr>\n",
       "    <tr>\n",
       "      <th>Paid Search</th>\n",
       "      <td>0.0</td>\n",
       "      <td>0.0</td>\n",
       "      <td>0.0</td>\n",
       "      <td>0.0</td>\n",
       "      <td>0.0</td>\n",
       "      <td>0.0</td>\n",
       "      <td>0.0</td>\n",
       "      <td>0.0</td>\n",
       "    </tr>\n",
       "    <tr>\n",
       "      <th>Conversion</th>\n",
       "      <td>0.0</td>\n",
       "      <td>0.0</td>\n",
       "      <td>0.0</td>\n",
       "      <td>0.0</td>\n",
       "      <td>0.0</td>\n",
       "      <td>1.0</td>\n",
       "      <td>0.0</td>\n",
       "      <td>0.0</td>\n",
       "    </tr>\n",
       "    <tr>\n",
       "      <th>Online Video</th>\n",
       "      <td>0.0</td>\n",
       "      <td>0.0</td>\n",
       "      <td>0.0</td>\n",
       "      <td>0.0</td>\n",
       "      <td>0.0</td>\n",
       "      <td>0.0</td>\n",
       "      <td>0.0</td>\n",
       "      <td>0.0</td>\n",
       "    </tr>\n",
       "    <tr>\n",
       "      <th>Null</th>\n",
       "      <td>0.0</td>\n",
       "      <td>0.0</td>\n",
       "      <td>0.0</td>\n",
       "      <td>0.0</td>\n",
       "      <td>0.0</td>\n",
       "      <td>0.0</td>\n",
       "      <td>0.0</td>\n",
       "      <td>1.0</td>\n",
       "    </tr>\n",
       "  </tbody>\n",
       "</table>\n",
       "</div>"
      ],
      "text/plain": [
       "                Instagram  Online Display  Facebook  Start  Paid Search  \\\n",
       "Instagram             0.0             0.0       0.0    0.0          0.0   \n",
       "Online Display        0.0             0.0       0.0    0.0          0.0   \n",
       "Facebook              0.0             0.0       0.0    0.0          0.0   \n",
       "Start                 0.0             0.0       0.0    0.0          0.0   \n",
       "Paid Search           0.0             0.0       0.0    0.0          0.0   \n",
       "Conversion            0.0             0.0       0.0    0.0          0.0   \n",
       "Online Video          0.0             0.0       0.0    0.0          0.0   \n",
       "Null                  0.0             0.0       0.0    0.0          0.0   \n",
       "\n",
       "                Conversion  Online Video  Null  \n",
       "Instagram              0.0           0.0   0.0  \n",
       "Online Display         0.0           0.0   0.0  \n",
       "Facebook               0.0           0.0   0.0  \n",
       "Start                  0.0           0.0   0.0  \n",
       "Paid Search            0.0           0.0   0.0  \n",
       "Conversion             1.0           0.0   0.0  \n",
       "Online Video           0.0           0.0   0.0  \n",
       "Null                   0.0           0.0   1.0  "
      ]
     },
     "execution_count": 60,
     "metadata": {},
     "output_type": "execute_result"
    }
   ],
   "source": [
    "trans_matrix"
   ]
  },
  {
   "cell_type": "code",
   "execution_count": 61,
   "id": "aac9eb5f",
   "metadata": {},
   "outputs": [],
   "source": [
    "for key, value in trans_prob.items():\n",
    "    origin, destination = key.split('>') # From, To \n",
    "    trans_matrix.at[origin, destination] = value"
   ]
  },
  {
   "cell_type": "code",
   "execution_count": 62,
   "id": "840fe527",
   "metadata": {},
   "outputs": [
    {
     "data": {
      "text/html": [
       "<div>\n",
       "<style scoped>\n",
       "    .dataframe tbody tr th:only-of-type {\n",
       "        vertical-align: middle;\n",
       "    }\n",
       "\n",
       "    .dataframe tbody tr th {\n",
       "        vertical-align: top;\n",
       "    }\n",
       "\n",
       "    .dataframe thead th {\n",
       "        text-align: right;\n",
       "    }\n",
       "</style>\n",
       "<table border=\"1\" class=\"dataframe\">\n",
       "  <thead>\n",
       "    <tr style=\"text-align: right;\">\n",
       "      <th></th>\n",
       "      <th>Instagram</th>\n",
       "      <th>Online Display</th>\n",
       "      <th>Facebook</th>\n",
       "      <th>Start</th>\n",
       "      <th>Paid Search</th>\n",
       "      <th>Conversion</th>\n",
       "      <th>Online Video</th>\n",
       "      <th>Null</th>\n",
       "    </tr>\n",
       "  </thead>\n",
       "  <tbody>\n",
       "    <tr>\n",
       "      <th>Instagram</th>\n",
       "      <td>0.000000</td>\n",
       "      <td>0.023531</td>\n",
       "      <td>0.218777</td>\n",
       "      <td>0.0</td>\n",
       "      <td>0.045809</td>\n",
       "      <td>0.057979</td>\n",
       "      <td>0.024118</td>\n",
       "      <td>0.629786</td>\n",
       "    </tr>\n",
       "    <tr>\n",
       "      <th>Online Display</th>\n",
       "      <td>0.029363</td>\n",
       "      <td>0.000000</td>\n",
       "      <td>0.053986</td>\n",
       "      <td>0.0</td>\n",
       "      <td>0.092386</td>\n",
       "      <td>0.050324</td>\n",
       "      <td>0.017299</td>\n",
       "      <td>0.756643</td>\n",
       "    </tr>\n",
       "    <tr>\n",
       "      <th>Facebook</th>\n",
       "      <td>0.173072</td>\n",
       "      <td>0.024352</td>\n",
       "      <td>0.000000</td>\n",
       "      <td>0.0</td>\n",
       "      <td>0.050655</td>\n",
       "      <td>0.053220</td>\n",
       "      <td>0.025577</td>\n",
       "      <td>0.673123</td>\n",
       "    </tr>\n",
       "    <tr>\n",
       "      <th>Start</th>\n",
       "      <td>0.119188</td>\n",
       "      <td>0.142644</td>\n",
       "      <td>0.278408</td>\n",
       "      <td>0.0</td>\n",
       "      <td>0.317399</td>\n",
       "      <td>0.000000</td>\n",
       "      <td>0.142361</td>\n",
       "      <td>0.000000</td>\n",
       "    </tr>\n",
       "    <tr>\n",
       "      <th>Paid Search</th>\n",
       "      <td>0.034196</td>\n",
       "      <td>0.048053</td>\n",
       "      <td>0.064442</td>\n",
       "      <td>0.0</td>\n",
       "      <td>0.000000</td>\n",
       "      <td>0.053309</td>\n",
       "      <td>0.029221</td>\n",
       "      <td>0.770779</td>\n",
       "    </tr>\n",
       "    <tr>\n",
       "      <th>Conversion</th>\n",
       "      <td>0.000000</td>\n",
       "      <td>0.000000</td>\n",
       "      <td>0.000000</td>\n",
       "      <td>0.0</td>\n",
       "      <td>0.000000</td>\n",
       "      <td>1.000000</td>\n",
       "      <td>0.000000</td>\n",
       "      <td>0.000000</td>\n",
       "    </tr>\n",
       "    <tr>\n",
       "      <th>Online Video</th>\n",
       "      <td>0.031908</td>\n",
       "      <td>0.018920</td>\n",
       "      <td>0.059323</td>\n",
       "      <td>0.0</td>\n",
       "      <td>0.047947</td>\n",
       "      <td>0.078146</td>\n",
       "      <td>0.000000</td>\n",
       "      <td>0.763757</td>\n",
       "    </tr>\n",
       "    <tr>\n",
       "      <th>Null</th>\n",
       "      <td>0.000000</td>\n",
       "      <td>0.000000</td>\n",
       "      <td>0.000000</td>\n",
       "      <td>0.0</td>\n",
       "      <td>0.000000</td>\n",
       "      <td>0.000000</td>\n",
       "      <td>0.000000</td>\n",
       "      <td>1.000000</td>\n",
       "    </tr>\n",
       "  </tbody>\n",
       "</table>\n",
       "</div>"
      ],
      "text/plain": [
       "                Instagram  Online Display  Facebook  Start  Paid Search  \\\n",
       "Instagram        0.000000        0.023531  0.218777    0.0     0.045809   \n",
       "Online Display   0.029363        0.000000  0.053986    0.0     0.092386   \n",
       "Facebook         0.173072        0.024352  0.000000    0.0     0.050655   \n",
       "Start            0.119188        0.142644  0.278408    0.0     0.317399   \n",
       "Paid Search      0.034196        0.048053  0.064442    0.0     0.000000   \n",
       "Conversion       0.000000        0.000000  0.000000    0.0     0.000000   \n",
       "Online Video     0.031908        0.018920  0.059323    0.0     0.047947   \n",
       "Null             0.000000        0.000000  0.000000    0.0     0.000000   \n",
       "\n",
       "                Conversion  Online Video      Null  \n",
       "Instagram         0.057979      0.024118  0.629786  \n",
       "Online Display    0.050324      0.017299  0.756643  \n",
       "Facebook          0.053220      0.025577  0.673123  \n",
       "Start             0.000000      0.142361  0.000000  \n",
       "Paid Search       0.053309      0.029221  0.770779  \n",
       "Conversion        1.000000      0.000000  0.000000  \n",
       "Online Video      0.078146      0.000000  0.763757  \n",
       "Null              0.000000      0.000000  1.000000  "
      ]
     },
     "execution_count": 62,
     "metadata": {},
     "output_type": "execute_result"
    }
   ],
   "source": [
    "trans_matrix"
   ]
  },
  {
   "cell_type": "code",
   "execution_count": 63,
   "id": "54a30aac",
   "metadata": {},
   "outputs": [],
   "source": [
    "# 함수 정리\n",
    "def transition_matrix(list_of_paths, transition_probabilities):\n",
    "\n",
    "    trans_matrix = pd.DataFrame()\n",
    "    list_of_unique_channels = set(x for element in list_of_paths for x in element)\n",
    "\n",
    "    for channel in list_of_unique_channels:\n",
    "        trans_matrix[channel] = 0.00\n",
    "        trans_matrix.loc[channel] = 0.00\n",
    "        trans_matrix.loc[channel][channel] = 1.0 if channel in ['Conversion', 'Null'] else 0.0\n",
    "\n",
    "    for key, value in transition_probabilities.items():\n",
    "        origin, destination = key.split('>')\n",
    "        trans_matrix.at[origin, destination] = value\n",
    "\n",
    "    return trans_matrix\n",
    "\n",
    "\n",
    "trans_matrix = transition_matrix(list_of_paths, trans_prob)"
   ]
  },
  {
   "cell_type": "code",
   "execution_count": 64,
   "id": "3f66ebbe",
   "metadata": {},
   "outputs": [
    {
     "data": {
      "text/html": [
       "<div>\n",
       "<style scoped>\n",
       "    .dataframe tbody tr th:only-of-type {\n",
       "        vertical-align: middle;\n",
       "    }\n",
       "\n",
       "    .dataframe tbody tr th {\n",
       "        vertical-align: top;\n",
       "    }\n",
       "\n",
       "    .dataframe thead th {\n",
       "        text-align: right;\n",
       "    }\n",
       "</style>\n",
       "<table border=\"1\" class=\"dataframe\">\n",
       "  <thead>\n",
       "    <tr style=\"text-align: right;\">\n",
       "      <th></th>\n",
       "      <th>Instagram</th>\n",
       "      <th>Online Display</th>\n",
       "      <th>Facebook</th>\n",
       "      <th>Start</th>\n",
       "      <th>Paid Search</th>\n",
       "      <th>Conversion</th>\n",
       "      <th>Online Video</th>\n",
       "      <th>Null</th>\n",
       "    </tr>\n",
       "  </thead>\n",
       "  <tbody>\n",
       "    <tr>\n",
       "      <th>Instagram</th>\n",
       "      <td>0.000000</td>\n",
       "      <td>0.023531</td>\n",
       "      <td>0.218777</td>\n",
       "      <td>0.0</td>\n",
       "      <td>0.045809</td>\n",
       "      <td>0.057979</td>\n",
       "      <td>0.024118</td>\n",
       "      <td>0.629786</td>\n",
       "    </tr>\n",
       "    <tr>\n",
       "      <th>Online Display</th>\n",
       "      <td>0.029363</td>\n",
       "      <td>0.000000</td>\n",
       "      <td>0.053986</td>\n",
       "      <td>0.0</td>\n",
       "      <td>0.092386</td>\n",
       "      <td>0.050324</td>\n",
       "      <td>0.017299</td>\n",
       "      <td>0.756643</td>\n",
       "    </tr>\n",
       "    <tr>\n",
       "      <th>Facebook</th>\n",
       "      <td>0.173072</td>\n",
       "      <td>0.024352</td>\n",
       "      <td>0.000000</td>\n",
       "      <td>0.0</td>\n",
       "      <td>0.050655</td>\n",
       "      <td>0.053220</td>\n",
       "      <td>0.025577</td>\n",
       "      <td>0.673123</td>\n",
       "    </tr>\n",
       "    <tr>\n",
       "      <th>Start</th>\n",
       "      <td>0.119188</td>\n",
       "      <td>0.142644</td>\n",
       "      <td>0.278408</td>\n",
       "      <td>0.0</td>\n",
       "      <td>0.317399</td>\n",
       "      <td>0.000000</td>\n",
       "      <td>0.142361</td>\n",
       "      <td>0.000000</td>\n",
       "    </tr>\n",
       "    <tr>\n",
       "      <th>Paid Search</th>\n",
       "      <td>0.034196</td>\n",
       "      <td>0.048053</td>\n",
       "      <td>0.064442</td>\n",
       "      <td>0.0</td>\n",
       "      <td>0.000000</td>\n",
       "      <td>0.053309</td>\n",
       "      <td>0.029221</td>\n",
       "      <td>0.770779</td>\n",
       "    </tr>\n",
       "    <tr>\n",
       "      <th>Conversion</th>\n",
       "      <td>0.000000</td>\n",
       "      <td>0.000000</td>\n",
       "      <td>0.000000</td>\n",
       "      <td>0.0</td>\n",
       "      <td>0.000000</td>\n",
       "      <td>1.000000</td>\n",
       "      <td>0.000000</td>\n",
       "      <td>0.000000</td>\n",
       "    </tr>\n",
       "    <tr>\n",
       "      <th>Online Video</th>\n",
       "      <td>0.031908</td>\n",
       "      <td>0.018920</td>\n",
       "      <td>0.059323</td>\n",
       "      <td>0.0</td>\n",
       "      <td>0.047947</td>\n",
       "      <td>0.078146</td>\n",
       "      <td>0.000000</td>\n",
       "      <td>0.763757</td>\n",
       "    </tr>\n",
       "    <tr>\n",
       "      <th>Null</th>\n",
       "      <td>0.000000</td>\n",
       "      <td>0.000000</td>\n",
       "      <td>0.000000</td>\n",
       "      <td>0.0</td>\n",
       "      <td>0.000000</td>\n",
       "      <td>0.000000</td>\n",
       "      <td>0.000000</td>\n",
       "      <td>1.000000</td>\n",
       "    </tr>\n",
       "  </tbody>\n",
       "</table>\n",
       "</div>"
      ],
      "text/plain": [
       "                Instagram  Online Display  Facebook  Start  Paid Search  \\\n",
       "Instagram        0.000000        0.023531  0.218777    0.0     0.045809   \n",
       "Online Display   0.029363        0.000000  0.053986    0.0     0.092386   \n",
       "Facebook         0.173072        0.024352  0.000000    0.0     0.050655   \n",
       "Start            0.119188        0.142644  0.278408    0.0     0.317399   \n",
       "Paid Search      0.034196        0.048053  0.064442    0.0     0.000000   \n",
       "Conversion       0.000000        0.000000  0.000000    0.0     0.000000   \n",
       "Online Video     0.031908        0.018920  0.059323    0.0     0.047947   \n",
       "Null             0.000000        0.000000  0.000000    0.0     0.000000   \n",
       "\n",
       "                Conversion  Online Video      Null  \n",
       "Instagram         0.057979      0.024118  0.629786  \n",
       "Online Display    0.050324      0.017299  0.756643  \n",
       "Facebook          0.053220      0.025577  0.673123  \n",
       "Start             0.000000      0.142361  0.000000  \n",
       "Paid Search       0.053309      0.029221  0.770779  \n",
       "Conversion        1.000000      0.000000  0.000000  \n",
       "Online Video      0.078146      0.000000  0.763757  \n",
       "Null              0.000000      0.000000  1.000000  "
      ]
     },
     "execution_count": 64,
     "metadata": {},
     "output_type": "execute_result"
    }
   ],
   "source": [
    "trans_matrix"
   ]
  },
  {
   "cell_type": "code",
   "execution_count": 65,
   "id": "20b12b2c",
   "metadata": {},
   "outputs": [
    {
     "data": {
      "image/png": "[encoded data removed]",
      "text/plain": [
       "<Figure size 648x504 with 2 Axes>"
      ]
     },
     "metadata": {},
     "output_type": "display_data"
    }
   ],
   "source": [
    "g = sns.heatmap(trans_matrix, annot=True, fmt='.2%', cmap=\"Blues\")\n",
    "g.figure.set_size_inches(9, 7)"
   ]
  },
  {
   "cell_type": "markdown",
   "id": "75ed8c64",
   "metadata": {},
   "source": [
    "# Absorbing Markov Chain 을 통한 채널 기여도 분석"
   ]
  },
  {
   "cell_type": "markdown",
   "id": "bc82d588",
   "metadata": {},
   "source": [
    "## 각 채널의 Removal Effect"
   ]
  },
  {
   "cell_type": "code",
   "execution_count": 66,
   "id": "dd403020",
   "metadata": {},
   "outputs": [
    {
     "name": "stdout",
     "output_type": "stream",
     "text": [
      "Instagram\n",
      "Online Display\n",
      "Facebook\n",
      "Start\n",
      "Paid Search\n",
      "Conversion\n",
      "Online Video\n",
      "Null\n"
     ]
    }
   ],
   "source": [
    "for channel in trans_matrix.columns:\n",
    "  print(channel)"
   ]
  },
  {
   "cell_type": "code",
   "execution_count": 67,
   "id": "955eb283",
   "metadata": {},
   "outputs": [
    {
     "data": {
      "text/html": [
       "<div>\n",
       "<style scoped>\n",
       "    .dataframe tbody tr th:only-of-type {\n",
       "        vertical-align: middle;\n",
       "    }\n",
       "\n",
       "    .dataframe tbody tr th {\n",
       "        vertical-align: top;\n",
       "    }\n",
       "\n",
       "    .dataframe thead th {\n",
       "        text-align: right;\n",
       "    }\n",
       "</style>\n",
       "<table border=\"1\" class=\"dataframe\">\n",
       "  <thead>\n",
       "    <tr style=\"text-align: right;\">\n",
       "      <th></th>\n",
       "      <th>Instagram</th>\n",
       "      <th>Online Display</th>\n",
       "      <th>Facebook</th>\n",
       "      <th>Start</th>\n",
       "      <th>Paid Search</th>\n",
       "      <th>Conversion</th>\n",
       "      <th>Online Video</th>\n",
       "      <th>Null</th>\n",
       "    </tr>\n",
       "  </thead>\n",
       "  <tbody>\n",
       "    <tr>\n",
       "      <th>Instagram</th>\n",
       "      <td>0.000000</td>\n",
       "      <td>0.023531</td>\n",
       "      <td>0.218777</td>\n",
       "      <td>0.0</td>\n",
       "      <td>0.045809</td>\n",
       "      <td>0.057979</td>\n",
       "      <td>0.024118</td>\n",
       "      <td>0.629786</td>\n",
       "    </tr>\n",
       "    <tr>\n",
       "      <th>Online Display</th>\n",
       "      <td>0.029363</td>\n",
       "      <td>0.000000</td>\n",
       "      <td>0.053986</td>\n",
       "      <td>0.0</td>\n",
       "      <td>0.092386</td>\n",
       "      <td>0.050324</td>\n",
       "      <td>0.017299</td>\n",
       "      <td>0.756643</td>\n",
       "    </tr>\n",
       "    <tr>\n",
       "      <th>Facebook</th>\n",
       "      <td>0.173072</td>\n",
       "      <td>0.024352</td>\n",
       "      <td>0.000000</td>\n",
       "      <td>0.0</td>\n",
       "      <td>0.050655</td>\n",
       "      <td>0.053220</td>\n",
       "      <td>0.025577</td>\n",
       "      <td>0.673123</td>\n",
       "    </tr>\n",
       "    <tr>\n",
       "      <th>Start</th>\n",
       "      <td>0.119188</td>\n",
       "      <td>0.142644</td>\n",
       "      <td>0.278408</td>\n",
       "      <td>0.0</td>\n",
       "      <td>0.317399</td>\n",
       "      <td>0.000000</td>\n",
       "      <td>0.142361</td>\n",
       "      <td>0.000000</td>\n",
       "    </tr>\n",
       "    <tr>\n",
       "      <th>Paid Search</th>\n",
       "      <td>0.034196</td>\n",
       "      <td>0.048053</td>\n",
       "      <td>0.064442</td>\n",
       "      <td>0.0</td>\n",
       "      <td>0.000000</td>\n",
       "      <td>0.053309</td>\n",
       "      <td>0.029221</td>\n",
       "      <td>0.770779</td>\n",
       "    </tr>\n",
       "    <tr>\n",
       "      <th>Conversion</th>\n",
       "      <td>0.000000</td>\n",
       "      <td>0.000000</td>\n",
       "      <td>0.000000</td>\n",
       "      <td>0.0</td>\n",
       "      <td>0.000000</td>\n",
       "      <td>1.000000</td>\n",
       "      <td>0.000000</td>\n",
       "      <td>0.000000</td>\n",
       "    </tr>\n",
       "    <tr>\n",
       "      <th>Online Video</th>\n",
       "      <td>0.031908</td>\n",
       "      <td>0.018920</td>\n",
       "      <td>0.059323</td>\n",
       "      <td>0.0</td>\n",
       "      <td>0.047947</td>\n",
       "      <td>0.078146</td>\n",
       "      <td>0.000000</td>\n",
       "      <td>0.763757</td>\n",
       "    </tr>\n",
       "    <tr>\n",
       "      <th>Null</th>\n",
       "      <td>0.000000</td>\n",
       "      <td>0.000000</td>\n",
       "      <td>0.000000</td>\n",
       "      <td>0.0</td>\n",
       "      <td>0.000000</td>\n",
       "      <td>0.000000</td>\n",
       "      <td>0.000000</td>\n",
       "      <td>1.000000</td>\n",
       "    </tr>\n",
       "  </tbody>\n",
       "</table>\n",
       "</div>"
      ],
      "text/plain": [
       "                Instagram  Online Display  Facebook  Start  Paid Search  \\\n",
       "Instagram        0.000000        0.023531  0.218777    0.0     0.045809   \n",
       "Online Display   0.029363        0.000000  0.053986    0.0     0.092386   \n",
       "Facebook         0.173072        0.024352  0.000000    0.0     0.050655   \n",
       "Start            0.119188        0.142644  0.278408    0.0     0.317399   \n",
       "Paid Search      0.034196        0.048053  0.064442    0.0     0.000000   \n",
       "Conversion       0.000000        0.000000  0.000000    0.0     0.000000   \n",
       "Online Video     0.031908        0.018920  0.059323    0.0     0.047947   \n",
       "Null             0.000000        0.000000  0.000000    0.0     0.000000   \n",
       "\n",
       "                Conversion  Online Video      Null  \n",
       "Instagram         0.057979      0.024118  0.629786  \n",
       "Online Display    0.050324      0.017299  0.756643  \n",
       "Facebook          0.053220      0.025577  0.673123  \n",
       "Start             0.000000      0.142361  0.000000  \n",
       "Paid Search       0.053309      0.029221  0.770779  \n",
       "Conversion        1.000000      0.000000  0.000000  \n",
       "Online Video      0.078146      0.000000  0.763757  \n",
       "Null              0.000000      0.000000  1.000000  "
      ]
     },
     "execution_count": 67,
     "metadata": {},
     "output_type": "execute_result"
    }
   ],
   "source": [
    "trans_matrix"
   ]
  },
  {
   "cell_type": "code",
   "execution_count": 68,
   "id": "ff24b33c",
   "metadata": {},
   "outputs": [],
   "source": [
    "removal_effects_dict = {}\n",
    "channels = [column for column in trans_matrix.columns if column not in ['Start', 'Null', 'Conversion']]"
   ]
  },
  {
   "cell_type": "code",
   "execution_count": 69,
   "id": "e5f629fc",
   "metadata": {},
   "outputs": [
    {
     "data": {
      "text/plain": [
       "['Instagram', 'Online Display', 'Facebook', 'Paid Search', 'Online Video']"
      ]
     },
     "execution_count": 69,
     "metadata": {},
     "output_type": "execute_result"
    }
   ],
   "source": [
    "channels"
   ]
  },
  {
   "cell_type": "markdown",
   "id": "ec16cfda",
   "metadata": {},
   "source": [
    "예) Facebook 의 제거효과"
   ]
  },
  {
   "cell_type": "code",
   "execution_count": 70,
   "id": "8ffec42a",
   "metadata": {},
   "outputs": [],
   "source": [
    "channel = 'Facebook'\n",
    "removal_df = trans_matrix.drop(channel, axis=1).drop(channel, axis=0)"
   ]
  },
  {
   "cell_type": "code",
   "execution_count": 71,
   "id": "6cabe68f",
   "metadata": {},
   "outputs": [
    {
     "data": {
      "text/html": [
       "<div>\n",
       "<style scoped>\n",
       "    .dataframe tbody tr th:only-of-type {\n",
       "        vertical-align: middle;\n",
       "    }\n",
       "\n",
       "    .dataframe tbody tr th {\n",
       "        vertical-align: top;\n",
       "    }\n",
       "\n",
       "    .dataframe thead th {\n",
       "        text-align: right;\n",
       "    }\n",
       "</style>\n",
       "<table border=\"1\" class=\"dataframe\">\n",
       "  <thead>\n",
       "    <tr style=\"text-align: right;\">\n",
       "      <th></th>\n",
       "      <th>Instagram</th>\n",
       "      <th>Online Display</th>\n",
       "      <th>Start</th>\n",
       "      <th>Paid Search</th>\n",
       "      <th>Conversion</th>\n",
       "      <th>Online Video</th>\n",
       "      <th>Null</th>\n",
       "    </tr>\n",
       "  </thead>\n",
       "  <tbody>\n",
       "    <tr>\n",
       "      <th>Instagram</th>\n",
       "      <td>0.000000</td>\n",
       "      <td>0.023531</td>\n",
       "      <td>0.0</td>\n",
       "      <td>0.045809</td>\n",
       "      <td>0.057979</td>\n",
       "      <td>0.024118</td>\n",
       "      <td>0.629786</td>\n",
       "    </tr>\n",
       "    <tr>\n",
       "      <th>Online Display</th>\n",
       "      <td>0.029363</td>\n",
       "      <td>0.000000</td>\n",
       "      <td>0.0</td>\n",
       "      <td>0.092386</td>\n",
       "      <td>0.050324</td>\n",
       "      <td>0.017299</td>\n",
       "      <td>0.756643</td>\n",
       "    </tr>\n",
       "    <tr>\n",
       "      <th>Start</th>\n",
       "      <td>0.119188</td>\n",
       "      <td>0.142644</td>\n",
       "      <td>0.0</td>\n",
       "      <td>0.317399</td>\n",
       "      <td>0.000000</td>\n",
       "      <td>0.142361</td>\n",
       "      <td>0.000000</td>\n",
       "    </tr>\n",
       "    <tr>\n",
       "      <th>Paid Search</th>\n",
       "      <td>0.034196</td>\n",
       "      <td>0.048053</td>\n",
       "      <td>0.0</td>\n",
       "      <td>0.000000</td>\n",
       "      <td>0.053309</td>\n",
       "      <td>0.029221</td>\n",
       "      <td>0.770779</td>\n",
       "    </tr>\n",
       "    <tr>\n",
       "      <th>Conversion</th>\n",
       "      <td>0.000000</td>\n",
       "      <td>0.000000</td>\n",
       "      <td>0.0</td>\n",
       "      <td>0.000000</td>\n",
       "      <td>1.000000</td>\n",
       "      <td>0.000000</td>\n",
       "      <td>0.000000</td>\n",
       "    </tr>\n",
       "    <tr>\n",
       "      <th>Online Video</th>\n",
       "      <td>0.031908</td>\n",
       "      <td>0.018920</td>\n",
       "      <td>0.0</td>\n",
       "      <td>0.047947</td>\n",
       "      <td>0.078146</td>\n",
       "      <td>0.000000</td>\n",
       "      <td>0.763757</td>\n",
       "    </tr>\n",
       "    <tr>\n",
       "      <th>Null</th>\n",
       "      <td>0.000000</td>\n",
       "      <td>0.000000</td>\n",
       "      <td>0.0</td>\n",
       "      <td>0.000000</td>\n",
       "      <td>0.000000</td>\n",
       "      <td>0.000000</td>\n",
       "      <td>1.000000</td>\n",
       "    </tr>\n",
       "  </tbody>\n",
       "</table>\n",
       "</div>"
      ],
      "text/plain": [
       "                Instagram  Online Display  Start  Paid Search  Conversion  \\\n",
       "Instagram        0.000000        0.023531    0.0     0.045809    0.057979   \n",
       "Online Display   0.029363        0.000000    0.0     0.092386    0.050324   \n",
       "Start            0.119188        0.142644    0.0     0.317399    0.000000   \n",
       "Paid Search      0.034196        0.048053    0.0     0.000000    0.053309   \n",
       "Conversion       0.000000        0.000000    0.0     0.000000    1.000000   \n",
       "Online Video     0.031908        0.018920    0.0     0.047947    0.078146   \n",
       "Null             0.000000        0.000000    0.0     0.000000    0.000000   \n",
       "\n",
       "                Online Video      Null  \n",
       "Instagram           0.024118  0.629786  \n",
       "Online Display      0.017299  0.756643  \n",
       "Start               0.142361  0.000000  \n",
       "Paid Search         0.029221  0.770779  \n",
       "Conversion          0.000000  0.000000  \n",
       "Online Video        0.000000  0.763757  \n",
       "Null                0.000000  1.000000  "
      ]
     },
     "execution_count": 71,
     "metadata": {},
     "output_type": "execute_result"
    }
   ],
   "source": [
    "# 전이 확률 : 행으로 다 더했을 때 1이 되어야 함\n",
    "removal_df"
   ]
  },
  {
   "cell_type": "code",
   "execution_count": 72,
   "id": "16d9fb7d",
   "metadata": {},
   "outputs": [
    {
     "data": {
      "text/plain": [
       "Instagram         0.781223\n",
       "Online Display    0.946014\n",
       "Start             0.721592\n",
       "Paid Search       0.935558\n",
       "Conversion        1.000000\n",
       "Online Video      0.940677\n",
       "Null              1.000000\n",
       "dtype: float64"
      ]
     },
     "execution_count": 72,
     "metadata": {},
     "output_type": "execute_result"
    }
   ],
   "source": [
    "removal_df.sum(axis=1)"
   ]
  },
  {
   "cell_type": "code",
   "execution_count": 73,
   "id": "5df18579",
   "metadata": {},
   "outputs": [
    {
     "data": {
      "text/plain": [
       "Index(['Instagram', 'Online Display', 'Start', 'Paid Search', 'Conversion',\n",
       "       'Online Video', 'Null'],\n",
       "      dtype='object')"
      ]
     },
     "execution_count": 73,
     "metadata": {},
     "output_type": "execute_result"
    }
   ],
   "source": [
    "removal_df.columns"
   ]
  },
  {
   "cell_type": "code",
   "execution_count": 74,
   "id": "fa080866",
   "metadata": {},
   "outputs": [
    {
     "name": "stdout",
     "output_type": "stream",
     "text": [
      "Instagram 0.7812234666235394 0.21877653337646064\n",
      "Online Display 0.9460144587362689 0.05398554126373112\n",
      "Start 0.7215919502890367 0.27840804971096333\n",
      "Paid Search 0.935558307068888 0.06444169293111202\n",
      "Conversion 1.0 0.0\n",
      "Online Video 0.9406767247692984 0.05932327523070158\n",
      "Null 1.0 0.0\n"
     ]
    }
   ],
   "source": [
    "# Facebook 으로 가던 전이확률을 다 Null 로 가는 확률로 더해줌\n",
    "for column in removal_df.columns:\n",
    "    row_sum = np.sum(list(removal_df.loc[column]))\n",
    "\n",
    "    null_pct = float(1) - row_sum\n",
    "    print(column, row_sum, null_pct)\n",
    "    if null_pct != 0:\n",
    "        removal_df.loc[column]['Null'] = removal_df.loc[column]['Null'] + null_pct\n",
    "    removal_df.loc['Null']['Null'] = 1.0"
   ]
  },
  {
   "cell_type": "code",
   "execution_count": 75,
   "id": "6dcf10a1",
   "metadata": {},
   "outputs": [
    {
     "data": {
      "text/plain": [
       "Instagram         1.0\n",
       "Online Display    1.0\n",
       "Start             1.0\n",
       "Paid Search       1.0\n",
       "Conversion        1.0\n",
       "Online Video      1.0\n",
       "Null              1.0\n",
       "dtype: float64"
      ]
     },
     "execution_count": 75,
     "metadata": {},
     "output_type": "execute_result"
    }
   ],
   "source": [
    "removal_df.sum(axis=1)"
   ]
  },
  {
   "cell_type": "code",
   "execution_count": 76,
   "id": "6e5d2bfb",
   "metadata": {},
   "outputs": [
    {
     "data": {
      "text/html": [
       "<div>\n",
       "<style scoped>\n",
       "    .dataframe tbody tr th:only-of-type {\n",
       "        vertical-align: middle;\n",
       "    }\n",
       "\n",
       "    .dataframe tbody tr th {\n",
       "        vertical-align: top;\n",
       "    }\n",
       "\n",
       "    .dataframe thead th {\n",
       "        text-align: right;\n",
       "    }\n",
       "</style>\n",
       "<table border=\"1\" class=\"dataframe\">\n",
       "  <thead>\n",
       "    <tr style=\"text-align: right;\">\n",
       "      <th></th>\n",
       "      <th>Instagram</th>\n",
       "      <th>Online Display</th>\n",
       "      <th>Start</th>\n",
       "      <th>Paid Search</th>\n",
       "      <th>Conversion</th>\n",
       "      <th>Online Video</th>\n",
       "      <th>Null</th>\n",
       "    </tr>\n",
       "  </thead>\n",
       "  <tbody>\n",
       "    <tr>\n",
       "      <th>Instagram</th>\n",
       "      <td>0.000000</td>\n",
       "      <td>0.023531</td>\n",
       "      <td>0.0</td>\n",
       "      <td>0.045809</td>\n",
       "      <td>0.057979</td>\n",
       "      <td>0.024118</td>\n",
       "      <td>0.848563</td>\n",
       "    </tr>\n",
       "    <tr>\n",
       "      <th>Online Display</th>\n",
       "      <td>0.029363</td>\n",
       "      <td>0.000000</td>\n",
       "      <td>0.0</td>\n",
       "      <td>0.092386</td>\n",
       "      <td>0.050324</td>\n",
       "      <td>0.017299</td>\n",
       "      <td>0.810628</td>\n",
       "    </tr>\n",
       "    <tr>\n",
       "      <th>Start</th>\n",
       "      <td>0.119188</td>\n",
       "      <td>0.142644</td>\n",
       "      <td>0.0</td>\n",
       "      <td>0.317399</td>\n",
       "      <td>0.000000</td>\n",
       "      <td>0.142361</td>\n",
       "      <td>0.278408</td>\n",
       "    </tr>\n",
       "    <tr>\n",
       "      <th>Paid Search</th>\n",
       "      <td>0.034196</td>\n",
       "      <td>0.048053</td>\n",
       "      <td>0.0</td>\n",
       "      <td>0.000000</td>\n",
       "      <td>0.053309</td>\n",
       "      <td>0.029221</td>\n",
       "      <td>0.835221</td>\n",
       "    </tr>\n",
       "    <tr>\n",
       "      <th>Conversion</th>\n",
       "      <td>0.000000</td>\n",
       "      <td>0.000000</td>\n",
       "      <td>0.0</td>\n",
       "      <td>0.000000</td>\n",
       "      <td>1.000000</td>\n",
       "      <td>0.000000</td>\n",
       "      <td>0.000000</td>\n",
       "    </tr>\n",
       "    <tr>\n",
       "      <th>Online Video</th>\n",
       "      <td>0.031908</td>\n",
       "      <td>0.018920</td>\n",
       "      <td>0.0</td>\n",
       "      <td>0.047947</td>\n",
       "      <td>0.078146</td>\n",
       "      <td>0.000000</td>\n",
       "      <td>0.823080</td>\n",
       "    </tr>\n",
       "    <tr>\n",
       "      <th>Null</th>\n",
       "      <td>0.000000</td>\n",
       "      <td>0.000000</td>\n",
       "      <td>0.0</td>\n",
       "      <td>0.000000</td>\n",
       "      <td>0.000000</td>\n",
       "      <td>0.000000</td>\n",
       "      <td>1.000000</td>\n",
       "    </tr>\n",
       "  </tbody>\n",
       "</table>\n",
       "</div>"
      ],
      "text/plain": [
       "                Instagram  Online Display  Start  Paid Search  Conversion  \\\n",
       "Instagram        0.000000        0.023531    0.0     0.045809    0.057979   \n",
       "Online Display   0.029363        0.000000    0.0     0.092386    0.050324   \n",
       "Start            0.119188        0.142644    0.0     0.317399    0.000000   \n",
       "Paid Search      0.034196        0.048053    0.0     0.000000    0.053309   \n",
       "Conversion       0.000000        0.000000    0.0     0.000000    1.000000   \n",
       "Online Video     0.031908        0.018920    0.0     0.047947    0.078146   \n",
       "Null             0.000000        0.000000    0.0     0.000000    0.000000   \n",
       "\n",
       "                Online Video      Null  \n",
       "Instagram           0.024118  0.848563  \n",
       "Online Display      0.017299  0.810628  \n",
       "Start               0.142361  0.278408  \n",
       "Paid Search         0.029221  0.835221  \n",
       "Conversion          0.000000  0.000000  \n",
       "Online Video        0.000000  0.823080  \n",
       "Null                0.000000  1.000000  "
      ]
     },
     "execution_count": 76,
     "metadata": {},
     "output_type": "execute_result"
    }
   ],
   "source": [
    "removal_df"
   ]
  },
  {
   "cell_type": "markdown",
   "id": "d1a2b04c",
   "metadata": {},
   "source": [
    "- Absorbing Markov Chain 공식\n",
    "- 맨 처음에 Start 에서 시작해서 어떤 State 를 다 거치고 오더라도, 결과적으로 Conversion으로 가는 확률값 \n",
    "- = Facebook 을 제거했을 때 Start에서 시작한 최종적인 전환율"
   ]
  },
  {
   "cell_type": "code",
   "execution_count": 77,
   "id": "64c3aa32",
   "metadata": {},
   "outputs": [],
   "source": [
    "# Abosorbing States : 변화하지 않는 States : Null or Conversion\n",
    "# Transient States : 변화하는 States : 나머지 (Start,... Channel)\n",
    "\n",
    "removal_to_conv = removal_df[\n",
    "    ['Null', 'Conversion']].drop(['Null', 'Conversion'], axis=0)\n",
    "\n",
    "removal_to_non_conv = removal_df.drop(\n",
    "    ['Null', 'Conversion'], axis=1).drop(['Null', 'Conversion'], axis=0)"
   ]
  },
  {
   "cell_type": "code",
   "execution_count": 78,
   "id": "c9498ecf",
   "metadata": {},
   "outputs": [
    {
     "data": {
      "text/html": [
       "<div>\n",
       "<style scoped>\n",
       "    .dataframe tbody tr th:only-of-type {\n",
       "        vertical-align: middle;\n",
       "    }\n",
       "\n",
       "    .dataframe tbody tr th {\n",
       "        vertical-align: top;\n",
       "    }\n",
       "\n",
       "    .dataframe thead th {\n",
       "        text-align: right;\n",
       "    }\n",
       "</style>\n",
       "<table border=\"1\" class=\"dataframe\">\n",
       "  <thead>\n",
       "    <tr style=\"text-align: right;\">\n",
       "      <th></th>\n",
       "      <th>Null</th>\n",
       "      <th>Conversion</th>\n",
       "    </tr>\n",
       "  </thead>\n",
       "  <tbody>\n",
       "    <tr>\n",
       "      <th>Instagram</th>\n",
       "      <td>0.848563</td>\n",
       "      <td>0.057979</td>\n",
       "    </tr>\n",
       "    <tr>\n",
       "      <th>Online Display</th>\n",
       "      <td>0.810628</td>\n",
       "      <td>0.050324</td>\n",
       "    </tr>\n",
       "    <tr>\n",
       "      <th>Start</th>\n",
       "      <td>0.278408</td>\n",
       "      <td>0.000000</td>\n",
       "    </tr>\n",
       "    <tr>\n",
       "      <th>Paid Search</th>\n",
       "      <td>0.835221</td>\n",
       "      <td>0.053309</td>\n",
       "    </tr>\n",
       "    <tr>\n",
       "      <th>Online Video</th>\n",
       "      <td>0.823080</td>\n",
       "      <td>0.078146</td>\n",
       "    </tr>\n",
       "  </tbody>\n",
       "</table>\n",
       "</div>"
      ],
      "text/plain": [
       "                    Null  Conversion\n",
       "Instagram       0.848563    0.057979\n",
       "Online Display  0.810628    0.050324\n",
       "Start           0.278408    0.000000\n",
       "Paid Search     0.835221    0.053309\n",
       "Online Video    0.823080    0.078146"
      ]
     },
     "execution_count": 78,
     "metadata": {},
     "output_type": "execute_result"
    }
   ],
   "source": [
    "# Absorbing States : null, conversion 만 있는 dataframe \n",
    "removal_to_conv"
   ]
  },
  {
   "cell_type": "code",
   "execution_count": 79,
   "id": "65627160",
   "metadata": {},
   "outputs": [
    {
     "data": {
      "text/html": [
       "<div>\n",
       "<style scoped>\n",
       "    .dataframe tbody tr th:only-of-type {\n",
       "        vertical-align: middle;\n",
       "    }\n",
       "\n",
       "    .dataframe tbody tr th {\n",
       "        vertical-align: top;\n",
       "    }\n",
       "\n",
       "    .dataframe thead th {\n",
       "        text-align: right;\n",
       "    }\n",
       "</style>\n",
       "<table border=\"1\" class=\"dataframe\">\n",
       "  <thead>\n",
       "    <tr style=\"text-align: right;\">\n",
       "      <th></th>\n",
       "      <th>Instagram</th>\n",
       "      <th>Online Display</th>\n",
       "      <th>Start</th>\n",
       "      <th>Paid Search</th>\n",
       "      <th>Online Video</th>\n",
       "    </tr>\n",
       "  </thead>\n",
       "  <tbody>\n",
       "    <tr>\n",
       "      <th>Instagram</th>\n",
       "      <td>0.000000</td>\n",
       "      <td>0.023531</td>\n",
       "      <td>0.0</td>\n",
       "      <td>0.045809</td>\n",
       "      <td>0.024118</td>\n",
       "    </tr>\n",
       "    <tr>\n",
       "      <th>Online Display</th>\n",
       "      <td>0.029363</td>\n",
       "      <td>0.000000</td>\n",
       "      <td>0.0</td>\n",
       "      <td>0.092386</td>\n",
       "      <td>0.017299</td>\n",
       "    </tr>\n",
       "    <tr>\n",
       "      <th>Start</th>\n",
       "      <td>0.119188</td>\n",
       "      <td>0.142644</td>\n",
       "      <td>0.0</td>\n",
       "      <td>0.317399</td>\n",
       "      <td>0.142361</td>\n",
       "    </tr>\n",
       "    <tr>\n",
       "      <th>Paid Search</th>\n",
       "      <td>0.034196</td>\n",
       "      <td>0.048053</td>\n",
       "      <td>0.0</td>\n",
       "      <td>0.000000</td>\n",
       "      <td>0.029221</td>\n",
       "    </tr>\n",
       "    <tr>\n",
       "      <th>Online Video</th>\n",
       "      <td>0.031908</td>\n",
       "      <td>0.018920</td>\n",
       "      <td>0.0</td>\n",
       "      <td>0.047947</td>\n",
       "      <td>0.000000</td>\n",
       "    </tr>\n",
       "  </tbody>\n",
       "</table>\n",
       "</div>"
      ],
      "text/plain": [
       "                Instagram  Online Display  Start  Paid Search  Online Video\n",
       "Instagram        0.000000        0.023531    0.0     0.045809      0.024118\n",
       "Online Display   0.029363        0.000000    0.0     0.092386      0.017299\n",
       "Start            0.119188        0.142644    0.0     0.317399      0.142361\n",
       "Paid Search      0.034196        0.048053    0.0     0.000000      0.029221\n",
       "Online Video     0.031908        0.018920    0.0     0.047947      0.000000"
      ]
     },
     "execution_count": 79,
     "metadata": {},
     "output_type": "execute_result"
    }
   ],
   "source": [
    "# Transient States : null, conversion 을 제거한 dataframe \n",
    "removal_to_non_conv"
   ]
  },
  {
   "cell_type": "code",
   "execution_count": 80,
   "id": "d16140ae",
   "metadata": {},
   "outputs": [
    {
     "data": {
      "text/plain": [
       "array([[0.        , 0.02353131, 0.        , 0.04580924, 0.02411758],\n",
       "       [0.02936344, 0.        , 0.        , 0.09238569, 0.01729885],\n",
       "       [0.11918803, 0.14264414, 0.        , 0.31739884, 0.14236094],\n",
       "       [0.03419631, 0.04805268, 0.        , 0.        , 0.02922107],\n",
       "       [0.03190762, 0.01891997, 0.        , 0.04794688, 0.        ]])"
      ]
     },
     "execution_count": 80,
     "metadata": {},
     "output_type": "execute_result"
    }
   ],
   "source": [
    "np.asarray(removal_to_non_conv)"
   ]
  },
  {
   "cell_type": "code",
   "execution_count": 81,
   "id": "e66b7c39",
   "metadata": {},
   "outputs": [
    {
     "name": "stdout",
     "output_type": "stream",
     "text": [
      "[[1. 0. 0. 0. 0.]\n",
      " [0. 1. 0. 0. 0.]\n",
      " [0. 0. 1. 0. 0.]\n",
      " [0. 0. 0. 1. 0.]\n",
      " [0. 0. 0. 0. 1.]]\n",
      "[[0.         0.02353131 0.         0.04580924 0.02411758]\n",
      " [0.02936344 0.         0.         0.09238569 0.01729885]\n",
      " [0.11918803 0.14264414 0.         0.31739884 0.14236094]\n",
      " [0.03419631 0.04805268 0.         0.         0.02922107]\n",
      " [0.03190762 0.01891997 0.         0.04794688 0.        ]]\n"
     ]
    }
   ],
   "source": [
    "I = np.identity(len(removal_to_non_conv.columns))\n",
    "print(I)\n",
    "\n",
    "Q = np.asarray(removal_to_non_conv)\n",
    "print(Q)"
   ]
  },
  {
   "cell_type": "code",
   "execution_count": 82,
   "id": "9b24b5bd",
   "metadata": {},
   "outputs": [
    {
     "data": {
      "text/plain": [
       "array([[ 1.        , -0.02353131,  0.        , -0.04580924, -0.02411758],\n",
       "       [-0.02936344,  1.        ,  0.        , -0.09238569, -0.01729885],\n",
       "       [-0.11918803, -0.14264414,  1.        , -0.31739884, -0.14236094],\n",
       "       [-0.03419631, -0.04805268,  0.        ,  1.        , -0.02922107],\n",
       "       [-0.03190762, -0.01891997,  0.        , -0.04794688,  1.        ]])"
      ]
     },
     "execution_count": 82,
     "metadata": {},
     "output_type": "execute_result"
    }
   ],
   "source": [
    "mat = I - Q\n",
    "mat"
   ]
  },
  {
   "cell_type": "code",
   "execution_count": 83,
   "id": "16be2bc1",
   "metadata": {},
   "outputs": [],
   "source": [
    "# 역행렬\n",
    "removal_inv_diff = np.linalg.inv(mat)\n",
    "F = np.linalg.inv(I - Q)"
   ]
  },
  {
   "cell_type": "code",
   "execution_count": 84,
   "id": "d5c0cadc",
   "metadata": {},
   "outputs": [
    {
     "data": {
      "text/plain": [
       "array([[1.00330901, 0.0264894 , 0.        , 0.0496598 , 0.02610673],\n",
       "       [0.03346716, 1.0057718 , 0.        , 0.09545869, 0.02099524],\n",
       "       [0.14097535, 0.16562845, 1.        , 0.34677051, 0.15875911],\n",
       "       [0.03692335, 0.04988651, 0.        , 1.00779629, 0.03120237],\n",
       "       [0.03441676, 0.02226629, 0.        , 0.05171129, 1.00272629]])"
      ]
     },
     "execution_count": 84,
     "metadata": {},
     "output_type": "execute_result"
    }
   ],
   "source": [
    "removal_inv_diff"
   ]
  },
  {
   "cell_type": "code",
   "execution_count": 85,
   "id": "a6526abd",
   "metadata": {},
   "outputs": [],
   "source": [
    "removal_dot_prod = np.dot(removal_inv_diff, np.asarray(removal_to_conv))"
   ]
  },
  {
   "cell_type": "code",
   "execution_count": 86,
   "id": "aa026a7a",
   "metadata": {},
   "outputs": [
    {
     "data": {
      "text/plain": [
       "array([[0.93580842, 0.06419158],\n",
       "       [0.9407157 , 0.0592843 ],\n",
       "       [0.95259886, 0.04740114],\n",
       "       [0.93918547, 0.06081453],\n",
       "       [0.91576868, 0.08423132]])"
      ]
     },
     "execution_count": 86,
     "metadata": {},
     "output_type": "execute_result"
    }
   ],
   "source": [
    "removal_dot_prod "
   ]
  },
  {
   "cell_type": "code",
   "execution_count": 87,
   "id": "1435c764",
   "metadata": {},
   "outputs": [
    {
     "data": {
      "text/html": [
       "<div>\n",
       "<style scoped>\n",
       "    .dataframe tbody tr th:only-of-type {\n",
       "        vertical-align: middle;\n",
       "    }\n",
       "\n",
       "    .dataframe tbody tr th {\n",
       "        vertical-align: top;\n",
       "    }\n",
       "\n",
       "    .dataframe thead th {\n",
       "        text-align: right;\n",
       "    }\n",
       "</style>\n",
       "<table border=\"1\" class=\"dataframe\">\n",
       "  <thead>\n",
       "    <tr style=\"text-align: right;\">\n",
       "      <th></th>\n",
       "      <th>Null</th>\n",
       "      <th>Conversion</th>\n",
       "    </tr>\n",
       "  </thead>\n",
       "  <tbody>\n",
       "    <tr>\n",
       "      <th>Instagram</th>\n",
       "      <td>0.848563</td>\n",
       "      <td>0.057979</td>\n",
       "    </tr>\n",
       "    <tr>\n",
       "      <th>Online Display</th>\n",
       "      <td>0.810628</td>\n",
       "      <td>0.050324</td>\n",
       "    </tr>\n",
       "    <tr>\n",
       "      <th>Start</th>\n",
       "      <td>0.278408</td>\n",
       "      <td>0.000000</td>\n",
       "    </tr>\n",
       "    <tr>\n",
       "      <th>Paid Search</th>\n",
       "      <td>0.835221</td>\n",
       "      <td>0.053309</td>\n",
       "    </tr>\n",
       "    <tr>\n",
       "      <th>Online Video</th>\n",
       "      <td>0.823080</td>\n",
       "      <td>0.078146</td>\n",
       "    </tr>\n",
       "  </tbody>\n",
       "</table>\n",
       "</div>"
      ],
      "text/plain": [
       "                    Null  Conversion\n",
       "Instagram       0.848563    0.057979\n",
       "Online Display  0.810628    0.050324\n",
       "Start           0.278408    0.000000\n",
       "Paid Search     0.835221    0.053309\n",
       "Online Video    0.823080    0.078146"
      ]
     },
     "execution_count": 87,
     "metadata": {},
     "output_type": "execute_result"
    }
   ],
   "source": [
    "removal_to_conv"
   ]
  },
  {
   "cell_type": "code",
   "execution_count": 88,
   "id": "fc12c165",
   "metadata": {},
   "outputs": [
    {
     "data": {
      "text/html": [
       "<div>\n",
       "<style scoped>\n",
       "    .dataframe tbody tr th:only-of-type {\n",
       "        vertical-align: middle;\n",
       "    }\n",
       "\n",
       "    .dataframe tbody tr th {\n",
       "        vertical-align: top;\n",
       "    }\n",
       "\n",
       "    .dataframe thead th {\n",
       "        text-align: right;\n",
       "    }\n",
       "</style>\n",
       "<table border=\"1\" class=\"dataframe\">\n",
       "  <thead>\n",
       "    <tr style=\"text-align: right;\">\n",
       "      <th></th>\n",
       "      <th>Null</th>\n",
       "      <th>Conversion</th>\n",
       "    </tr>\n",
       "  </thead>\n",
       "  <tbody>\n",
       "    <tr>\n",
       "      <th>Instagram</th>\n",
       "      <td>0.935808</td>\n",
       "      <td>0.064192</td>\n",
       "    </tr>\n",
       "    <tr>\n",
       "      <th>Online Display</th>\n",
       "      <td>0.940716</td>\n",
       "      <td>0.059284</td>\n",
       "    </tr>\n",
       "    <tr>\n",
       "      <th>Start</th>\n",
       "      <td>0.952599</td>\n",
       "      <td>0.047401</td>\n",
       "    </tr>\n",
       "    <tr>\n",
       "      <th>Paid Search</th>\n",
       "      <td>0.939185</td>\n",
       "      <td>0.060815</td>\n",
       "    </tr>\n",
       "    <tr>\n",
       "      <th>Online Video</th>\n",
       "      <td>0.915769</td>\n",
       "      <td>0.084231</td>\n",
       "    </tr>\n",
       "  </tbody>\n",
       "</table>\n",
       "</div>"
      ],
      "text/plain": [
       "                    Null  Conversion\n",
       "Instagram       0.935808    0.064192\n",
       "Online Display  0.940716    0.059284\n",
       "Start           0.952599    0.047401\n",
       "Paid Search     0.939185    0.060815\n",
       "Online Video    0.915769    0.084231"
      ]
     },
     "execution_count": 88,
     "metadata": {},
     "output_type": "execute_result"
    }
   ],
   "source": [
    "pd.DataFrame(removal_dot_prod, index=removal_to_conv.index, columns = removal_to_conv.columns)\n",
    "\n",
    "# Start -> Conversion : 0.047401 4.7%"
   ]
  },
  {
   "cell_type": "code",
   "execution_count": 89,
   "id": "fdcbb078",
   "metadata": {},
   "outputs": [
    {
     "data": {
      "text/plain": [
       "0.04740113808165116"
      ]
     },
     "execution_count": 89,
     "metadata": {},
     "output_type": "execute_result"
    }
   ],
   "source": [
    "# Facebook 제거 후 총 전환율\n",
    "removal_cvr = pd.DataFrame(removal_dot_prod,\n",
    "                            index=removal_to_conv.index)[[1]].loc['Start'].values[0]\n",
    "removal_cvr"
   ]
  },
  {
   "cell_type": "code",
   "execution_count": 90,
   "id": "8b875be5",
   "metadata": {},
   "outputs": [
    {
     "data": {
      "text/plain": [
       "0.07346277508454528"
      ]
     },
     "execution_count": 90,
     "metadata": {},
     "output_type": "execute_result"
    }
   ],
   "source": [
    "# 원래의 전환율\n",
    "base_conversion_rate"
   ]
  },
  {
   "cell_type": "code",
   "execution_count": 91,
   "id": "5525c03d",
   "metadata": {},
   "outputs": [
    {
     "data": {
      "text/plain": [
       "0.6452402325817279"
      ]
     },
     "execution_count": 91,
     "metadata": {},
     "output_type": "execute_result"
    }
   ],
   "source": [
    "# 전체 전환율 중 Facebook 을 제거한 전환율의 비중\n",
    "removal_cvr / base_conversion_rate"
   ]
  },
  {
   "cell_type": "code",
   "execution_count": 92,
   "id": "bbc3a9aa",
   "metadata": {},
   "outputs": [
    {
     "data": {
      "text/plain": [
       "0.3547597674182721"
      ]
     },
     "execution_count": 92,
     "metadata": {},
     "output_type": "execute_result"
    }
   ],
   "source": [
    "# 아 전환율의 35%가 사라짐 (하지만 모든 채널의 효과를 구해서 다시 비중을 조정해야 함)\n",
    "removal_effect = 1 - removal_cvr / base_conversion_rate\n",
    "removal_effect"
   ]
  },
  {
   "cell_type": "code",
   "execution_count": 95,
   "id": "41faefe0",
   "metadata": {},
   "outputs": [],
   "source": [
    "# 각 컬럼에 대한 제거효과 \n",
    "# 함수 정리\n",
    "\n",
    "def removal_effects(df, conversion_rate):\n",
    "    removal_effects_dict = {}\n",
    "    channels = [channel for channel in df.columns if channel not in ['Start',\n",
    "                                                                     'Null',\n",
    "                                                                     'Conversion']]\n",
    "    for channel in channels:\n",
    "        removal_df = df.drop(channel, axis=1).drop(channel, axis=0)\n",
    "        for column in removal_df.columns:\n",
    "            row_sum = np.sum(list(removal_df.loc[column]))\n",
    "            null_pct = float(1) - row_sum\n",
    "            if null_pct != 0:\n",
    "                removal_df.loc[column]['Null'] = removal_df.loc[column]['Null'] + null_pct\n",
    "            removal_df.loc['Null']['Null'] = 1.0\n",
    "\n",
    "        removal_to_conv = removal_df[\n",
    "            ['Null', 'Conversion']].drop(['Null', 'Conversion'], axis=0)\n",
    "        removal_to_non_conv = removal_df.drop(\n",
    "            ['Null', 'Conversion'], axis=1).drop(['Null', 'Conversion'], axis=0)\n",
    "\n",
    "        removal_inv_diff = np.linalg.inv(\n",
    "            np.identity(\n",
    "                len(removal_to_non_conv.columns)) - np.asarray(removal_to_non_conv))\n",
    "        removal_dot_prod = np.dot(removal_inv_diff, np.asarray(removal_to_conv))\n",
    "        removal_cvr = pd.DataFrame(removal_dot_prod,\n",
    "                                   index=removal_to_conv.index)[[1]].loc['Start'].values[0]\n",
    "        removal_effect = 1 - removal_cvr / conversion_rate\n",
    "        # removal_effects_dict\n",
    "        removal_effects_dict[channel] = removal_effect\n",
    "\n",
    "    return removal_effects_dict"
   ]
  },
  {
   "cell_type": "code",
   "execution_count": 96,
   "id": "84cbf2cb",
   "metadata": {},
   "outputs": [
    {
     "data": {
      "text/plain": [
       "{'Instagram': 0.21731366149038456,\n",
       " 'Online Display': 0.15435482356041286,\n",
       " 'Facebook': 0.3547597674182721,\n",
       " 'Paid Search': 0.3311037560086154,\n",
       " 'Online Video': 0.20691411655642178}"
      ]
     },
     "execution_count": 96,
     "metadata": {},
     "output_type": "execute_result"
    }
   ],
   "source": [
    "removal_effects_dict = removal_effects(trans_matrix, base_conversion_rate)\n",
    "removal_effects_dict"
   ]
  },
  {
   "cell_type": "markdown",
   "id": "88f896a3",
   "metadata": {},
   "source": [
    "전체 전환수에 대한 각 채널의 기여도"
   ]
  },
  {
   "cell_type": "code",
   "execution_count": 97,
   "id": "27cbaa75",
   "metadata": {},
   "outputs": [
    {
     "data": {
      "text/plain": [
       "1.2644461250341066"
      ]
     },
     "execution_count": 97,
     "metadata": {},
     "output_type": "execute_result"
    }
   ],
   "source": [
    "# 전체 확률\n",
    "re_sum = np.sum(list(removal_effects_dict.values()))\n",
    "re_sum"
   ]
  },
  {
   "cell_type": "code",
   "execution_count": 98,
   "id": "533a5bee",
   "metadata": {},
   "outputs": [
    {
     "data": {
      "text/plain": [
       "17639"
      ]
     },
     "execution_count": 98,
     "metadata": {},
     "output_type": "execute_result"
    }
   ],
   "source": [
    "conversion_count"
   ]
  },
  {
   "cell_type": "code",
   "execution_count": 101,
   "id": "525282fd",
   "metadata": {},
   "outputs": [
    {
     "name": "stdout",
     "output_type": "stream",
     "text": [
      "Instagram  :  3031.521548555893\n",
      "Online Display  :  2153.2469267590836\n",
      "Facebook  :  4948.892177847523\n",
      "Paid Search  :  4618.891257291356\n",
      "Online Video  :  2886.4480895461456\n"
     ]
    }
   ],
   "source": [
    "# 앞에서 구한 확률을 전체 확률로 나누고, 총 전환수에 곱함\n",
    "# 의미: 각 제거 효과로 구한 확률의 비중만큼 전환에 대한 기여도를 재조정\n",
    "for k, v in removal_effects_dict.items():\n",
    "    print(k,\" : \" , (v / re_sum) * conversion_count)"
   ]
  },
  {
   "cell_type": "code",
   "execution_count": 102,
   "id": "edd7cd94",
   "metadata": {},
   "outputs": [],
   "source": [
    "# 함수 정리\n",
    "def markov_chain_allocations(removal_effects, total_conversions):\n",
    "    re_sum = np.sum(list(removal_effects.values()))\n",
    "\n",
    "    return {k: (v / re_sum) * total_conversions for k, v in removal_effects.items()}\n",
    "\n",
    "\n",
    "attributions = markov_chain_allocations(removal_effects_dict, conversion_count)"
   ]
  },
  {
   "cell_type": "code",
   "execution_count": 103,
   "id": "249c3ee0",
   "metadata": {},
   "outputs": [
    {
     "data": {
      "text/plain": [
       "{'Instagram': 3031.521548555893,\n",
       " 'Online Display': 2153.2469267590836,\n",
       " 'Facebook': 4948.892177847523,\n",
       " 'Paid Search': 4618.891257291356,\n",
       " 'Online Video': 2886.4480895461456}"
      ]
     },
     "execution_count": 103,
     "metadata": {},
     "output_type": "execute_result"
    }
   ],
   "source": [
    "attributions"
   ]
  },
  {
   "cell_type": "code",
   "execution_count": 104,
   "id": "f2912a00",
   "metadata": {},
   "outputs": [
    {
     "data": {
      "text/plain": [
       "17639"
      ]
     },
     "execution_count": 104,
     "metadata": {},
     "output_type": "execute_result"
    }
   ],
   "source": [
    "conversion_count"
   ]
  },
  {
   "cell_type": "code",
   "execution_count": 105,
   "id": "fba43cdb",
   "metadata": {},
   "outputs": [
    {
     "data": {
      "text/plain": [
       "17639.0"
      ]
     },
     "execution_count": 105,
     "metadata": {},
     "output_type": "execute_result"
    }
   ],
   "source": [
    "sum(attributions.values())"
   ]
  },
  {
   "cell_type": "code",
   "execution_count": 106,
   "id": "049fdfff",
   "metadata": {},
   "outputs": [
    {
     "data": {
      "text/html": [
       "<div>\n",
       "<style scoped>\n",
       "    .dataframe tbody tr th:only-of-type {\n",
       "        vertical-align: middle;\n",
       "    }\n",
       "\n",
       "    .dataframe tbody tr th {\n",
       "        vertical-align: top;\n",
       "    }\n",
       "\n",
       "    .dataframe thead th {\n",
       "        text-align: right;\n",
       "    }\n",
       "</style>\n",
       "<table border=\"1\" class=\"dataframe\">\n",
       "  <thead>\n",
       "    <tr style=\"text-align: right;\">\n",
       "      <th></th>\n",
       "      <th>channel</th>\n",
       "      <th>attribution</th>\n",
       "    </tr>\n",
       "  </thead>\n",
       "  <tbody>\n",
       "    <tr>\n",
       "      <th>0</th>\n",
       "      <td>Instagram</td>\n",
       "      <td>3031.521549</td>\n",
       "    </tr>\n",
       "    <tr>\n",
       "      <th>1</th>\n",
       "      <td>Online Display</td>\n",
       "      <td>2153.246927</td>\n",
       "    </tr>\n",
       "    <tr>\n",
       "      <th>2</th>\n",
       "      <td>Facebook</td>\n",
       "      <td>4948.892178</td>\n",
       "    </tr>\n",
       "    <tr>\n",
       "      <th>3</th>\n",
       "      <td>Paid Search</td>\n",
       "      <td>4618.891257</td>\n",
       "    </tr>\n",
       "    <tr>\n",
       "      <th>4</th>\n",
       "      <td>Online Video</td>\n",
       "      <td>2886.448090</td>\n",
       "    </tr>\n",
       "  </tbody>\n",
       "</table>\n",
       "</div>"
      ],
      "text/plain": [
       "          channel  attribution\n",
       "0       Instagram  3031.521549\n",
       "1  Online Display  2153.246927\n",
       "2        Facebook  4948.892178\n",
       "3     Paid Search  4618.891257\n",
       "4    Online Video  2886.448090"
      ]
     },
     "execution_count": 106,
     "metadata": {},
     "output_type": "execute_result"
    }
   ],
   "source": [
    "attribution_by_markov = pd.DataFrame({'channel': attributions.keys(), 'attribution': attributions.values()})\n",
    "attribution_by_markov"
   ]
  },
  {
   "cell_type": "code",
   "execution_count": 107,
   "id": "db228a2b",
   "metadata": {},
   "outputs": [
    {
     "data": {
      "image/png": "[encoded data removed]",
      "text/plain": [
       "<Figure size 720x504 with 1 Axes>"
      ]
     },
     "metadata": {},
     "output_type": "display_data"
    }
   ],
   "source": [
    "sns.set_theme(style=\"whitegrid\", palette=\"Paired\")\n",
    "g = sns.barplot(x=attribution_by_markov.channel, y=attribution_by_markov.attribution, data = attribution_by_markov)\n",
    "g.figure.set_size_inches(10, 7)"
   ]
  },
  {
   "cell_type": "markdown",
   "id": "1f58e405",
   "metadata": {},
   "source": [
    "## Simple 기여도 모델과 Markov Chain 모델로 구한 기여도 비교"
   ]
  },
  {
   "cell_type": "code",
   "execution_count": 108,
   "id": "858c1190",
   "metadata": {},
   "outputs": [],
   "source": [
    "attribution_by_markov[\"method\"] = \"markov\""
   ]
  },
  {
   "cell_type": "code",
   "execution_count": 109,
   "id": "713b9f2e",
   "metadata": {},
   "outputs": [],
   "source": [
    "total_with_markov = total_data.append(attribution_by_markov, ignore_index = True)"
   ]
  },
  {
   "cell_type": "code",
   "execution_count": 110,
   "id": "9a57eb1e",
   "metadata": {},
   "outputs": [
    {
     "data": {
      "image/png": "[encoded data removed]",
      "text/plain": [
       "<Figure size 720x504 with 1 Axes>"
      ]
     },
     "metadata": {},
     "output_type": "display_data"
    }
   ],
   "source": [
    "# 다른 모델에서 낮아보였던 Instagram의 기여도는 높아짐\n",
    "sns.set_theme(style=\"whitegrid\", palette=\"Paired\")\n",
    "g = sns.barplot(x=total_with_markov.channel, y=total_with_markov.attribution, hue = total_with_markov.method)\n",
    "g.figure.set_size_inches(10, 7)"
   ]
  }
 ],
 "metadata": {
  "kernelspec": {
   "display_name": "Python 3",
   "language": "python",
   "name": "python3"
  },
  "language_info": {
   "codemirror_mode": {
    "name": "ipython",
    "version": 3
   },
   "file_extension": ".py",
   "mimetype": "text/x-python",
   "name": "python",
   "nbconvert_exporter": "python",
   "pygments_lexer": "ipython3",
   "version": "3.8.8"
  }
 },
 "nbformat": 4,
 "nbformat_minor": 5
}
